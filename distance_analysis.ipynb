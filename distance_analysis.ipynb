{
 "cells": [
  {
   "cell_type": "code",
   "execution_count": null,
   "metadata": {},
   "outputs": [],
   "source": [
    "import pandas as pd\n",
    "import plotly.express as px\n",
    "import plotly.graph_objects as go"
   ]
  },
  {
   "cell_type": "code",
   "execution_count": null,
   "metadata": {},
   "outputs": [],
   "source": [
    "def read_file(path):\n",
    "    df = pd.read_csv(path)\n",
    "    df.set_index(['idx_ai', 'idx_aj'], inplace = True)\n",
    "\n",
    "    return df"
   ]
  },
  {
   "cell_type": "code",
   "execution_count": null,
   "metadata": {},
   "outputs": [],
   "source": [
    "inter_mat = read_file('analysis/inter_mat_fibril_MD')\n",
    "inter_mat"
   ]
  },
  {
   "cell_type": "code",
   "execution_count": null,
   "metadata": {},
   "outputs": [],
   "source": [
    "def make_histogram(df, name):\n",
    "    histo = df[['probability', 'distance']].groupby(by=[\"idx_ai\", \"idx_aj\"])\n",
    "    #histo.to_csv('plots/atomic_mat_plainMD')\n",
    "    for coso1, coso2 in histo:\n",
    "        #print(coso1)\n",
    "        #print(coso2)\n",
    "        fig = go.Figure()\n",
    "        fig.add_trace(go.Histogram(x=coso2['distance'], histfunc='count', nbinsx = 70))\n",
    "        fig.add_trace(go.Histogram(x=coso2['probability'], histfunc='count', nbinsx = 70))\n",
    "        fig.write_html(f'analysis/plots/{name}_{coso1}.html')\n",
    "        # distanze fixate x axis\n"
   ]
  },
  {
   "cell_type": "code",
   "execution_count": null,
   "metadata": {},
   "outputs": [],
   "source": [
    "make_histogram(read_file('analysis/inter_mat_fibril_MD'), 'inter_mat')\n",
    "make_histogram(read_file('analysis/inter_mat_mdtreshold_fibril_MD'), 'treshold')\n",
    "make_histogram(read_file('analysis/mono_mat_fibril_MD'), 'mono')\n",
    "make_histogram(read_file('analysis/bi_mat_fibril_MD'), 'bi')\n",
    "make_histogram(read_file('analysis/bi_dump_mat_fibril_MD'), 'bi_dump')"
   ]
  },
  {
   "cell_type": "code",
   "execution_count": null,
   "metadata": {},
   "outputs": [],
   "source": [
    "coso = read_file('analysis/inter_mat_mdtreshold_fibril_MD')\n",
    "\n",
    "coso1 = coso.loc[(coso['ai'] == 'CB_2') & (coso['aj'] == 'C_10')]\n",
    "coso2 = coso.loc[(coso['aj'] == 'CB_2') & (coso['ai'] == 'C_10')]\n",
    "\n",
    "coso3 = pd.concat([coso1, coso2], axis=0)\n",
    "\n",
    "coso3.sort_values(by=['probability'], inplace=True)\n",
    "print(coso3.to_string())\n",
    "    "
   ]
  },
  {
   "cell_type": "code",
   "execution_count": null,
   "metadata": {},
   "outputs": [],
   "source": []
  }
 ],
 "metadata": {
  "kernelspec": {
   "display_name": "Python 3 (ipykernel)",
   "language": "python",
   "name": "python3"
  },
  "language_info": {
   "codemirror_mode": {
    "name": "ipython",
    "version": 3
   },
   "file_extension": ".py",
   "mimetype": "text/x-python",
   "name": "python",
   "nbconvert_exporter": "python",
   "pygments_lexer": "ipython3",
   "version": "3.10.6"
  },
  "orig_nbformat": 4,
  "vscode": {
   "interpreter": {
    "hash": "c6ac59e583a39f084912d111f630e8bf490e1f9b270cd186a794a1411c2b9a8b"
   }
  }
 },
 "nbformat": 4,
 "nbformat_minor": 2
}
