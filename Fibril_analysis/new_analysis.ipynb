{
 "metadata": {
  "language_info": {
   "codemirror_mode": {
    "name": "ipython",
    "version": 3
   },
   "file_extension": ".py",
   "mimetype": "text/x-python",
   "name": "python",
   "nbconvert_exporter": "python",
   "pygments_lexer": "ipython3",
   "version": 3
  },
  "orig_nbformat": 2
 },
 "nbformat": 4,
 "nbformat_minor": 2,
 "cells": [
  {
   "cell_type": "code",
   "execution_count": null,
   "metadata": {},
   "outputs": [],
   "source": [
    "concentration = 13\n",
    "replica_number = 1\n",
    "dt = 1000\n",
    "cdt = 100000\n",
    "temperature = 308\n",
    "nchains = 2000\n",
    "atoms_in_chain = 85\n",
    "\n",
    "# Valuta se fargli scrivere queste info su un file in modo da farli leggere in automatico agli altri script"
   ]
  },
  {
   "cell_type": "code",
   "execution_count": null,
   "metadata": {},
   "outputs": [],
   "source": [
    "directory = f'/media/data/emanuele/TTR/greta_test_cutoff_55_ex_3/epsilon_0295_harp2_c12_Native2reweight_noN1_gd0/concentration_gradient/make_fibril_{nchains}_{concentration}mM_{temperature}K_{replica_number}'\n",
    "%cd $directory\n",
    "%mkdir analysis\n",
    "%ls"
   ]
  },
  {
   "cell_type": "code",
   "execution_count": null,
   "metadata": {},
   "outputs": [],
   "source": [
    "import os, os.path\n",
    "file_list = os.listdir('.')\n",
    "file_list = list(filter(lambda k: 'part' in k, file_list))\n",
    "file_list = list(filter(lambda k: 'xtc' in k, file_list))\n",
    "file_list.sort()\n",
    "file_list = ' '.join(file_list)\n",
    "file_list"
   ]
  },
  {
   "cell_type": "code",
   "execution_count": null,
   "metadata": {},
   "outputs": [],
   "source": [
    "trjcat = f'gmx_mpi trjcat -f {file_list} -o prod_{nchains}-{concentration}mM_full'\n",
    "!{trjcat}"
   ]
  }
 ]
}