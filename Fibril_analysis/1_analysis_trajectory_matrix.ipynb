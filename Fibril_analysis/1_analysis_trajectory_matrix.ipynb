{
 "metadata": {
  "language_info": {
   "codemirror_mode": {
    "name": "ipython",
    "version": 3
   },
   "file_extension": ".py",
   "mimetype": "text/x-python",
   "name": "python",
   "nbconvert_exporter": "python",
   "pygments_lexer": "ipython3",
   "version": "3.7.6-final"
  },
  "orig_nbformat": 2,
  "kernelspec": {
   "name": "python376jvsc74a57bd08c59a66eb943e4d799fe41f296e6179be63a88f5d455d862c370ed6ecf30b310",
   "display_name": "Python 3.7.6 64-bit ('py37': conda)"
  }
 },
 "nbformat": 4,
 "nbformat_minor": 2,
 "cells": [
  {
   "source": [
    "# Trajectory analysis\n",
    "Contact matrix frame-wise"
   ],
   "cell_type": "markdown",
   "metadata": {}
  },
  {
   "cell_type": "code",
   "execution_count": null,
   "metadata": {},
   "outputs": [],
   "source": [
    "nchains = 2000\n",
    "concentration = 13\n",
    "replica_number = 1"
   ]
  },
  {
   "cell_type": "code",
   "execution_count": 10,
   "metadata": {},
   "outputs": [
    {
     "output_type": "stream",
     "name": "stdout",
     "text": [
      "[Errno 2] No such file or directory: 'make_fibril_2000_13mM_300K_1/analysis_test'\n/media/data/emanuele/TTR/greta_test_cutoff_55_ex_3/epsilon_0295_c12_Native2reweight_noN1_gd0/concentration_gradient/make_fibril_2000_13mM_300K_1/analysis_test\n\u001b[0m\u001b[01;35m13mM_histo_dt-10000.png\u001b[0m           matrix-dt10000.dat\n\u001b[01;35m13mM_matrix_dt-10000.png\u001b[0m          maxclust.ndx\n\u001b[01;36m2000_pep-13mM.gro\u001b[0m@                maxclust.xvg\n\u001b[01;36mNOPBC_prod_2000-13mM-dt1000.xtc\u001b[0m@  nclust.xvg\navclust.xvg                       plot_histo_norm_dt10000.txt\n\u001b[01;35mcsize.xpm\u001b[0m                         plot_histogram_dt10000.txt\n\u001b[01;35mcsizew.xpm\u001b[0m                        plot_matrix_dt10000.txt\nhisto-clust.xvg                   prod_2000-13mM-dt10000.xtc\nlast_frame.ndx                    \u001b[01;36mprod_2000-13mM.tpr\u001b[0m@\nlast_frame.xtc                    temp.xvg\n"
     ]
    }
   ],
   "source": [
    "# The interest is on the sigmoid and the automatic part is the reading of the trajectory, select the frames of the aggregation start and also keep the maxclust.\n",
    "\n",
    "# 1 Select the frames\n",
    "\n",
    "%cd make_fibril_2000_13mM_300K_1/analysis_test\n",
    "\n",
    "%ls"
   ]
  },
  {
   "cell_type": "code",
   "execution_count": 30,
   "metadata": {},
   "outputs": [],
   "source": [
    "import pandas as pd\n",
    "import numpy as np\n",
    "\n",
    "def make_plots(matrix):\n",
    "    #print(matrix_dict)\n",
    "\n",
    "    # Changing the index so now it is in picoseconds\n",
    "    #matrix[0] = matrix[0].apply(lambda x:x*10)\n",
    "    #matrix = matrix.set_index([0])\n",
    "\n",
    "    ### Data handling\n",
    "    #### Defining the Maxclust and the number of frames\n",
    "    clustsize = list(range(0, len(matrix.columns), 1))\n",
    "    frames = list(range(0, len(matrix.index), 1))\n",
    "    fibril = list(range(2, len(matrix.columns)))\n",
    "    #not_fibril = list(range(3, 10, 1))\n",
    "\n",
    "\n",
    "    #### Multiply the columns for its clustsize\n",
    "    size = pd.Series(clustsize)\n",
    "    matrix = matrix.mul(size, axis = 1)\n",
    "\n",
    "    #### Replace 0 with n.an\n",
    "    matrix[matrix == 0] = np.nan\n",
    "\n",
    "    #### I don't care about monomers\n",
    "    matrix = matrix.drop([0, 1], axis = 1)\n",
    "\n",
    "    ### Make the histogram to compare with lab results\n",
    "    # Set the not-fibril to 0 and have a sort of lag time \n",
    "\n",
    "# At the moment i keep also the matrix for multiple fibrils but now i focus on the normalized histogram\n",
    "\n",
    "    histo_norm = matrix.copy()\n",
    "    histo_norm[[2, 3, 4, 5, 6, 7, 8, 9, 10]] = 0\n",
    "    histo_norm = histo_norm[fibril].sum(axis=1)\n",
    "\n",
    "    \n",
    "    # Matrix transpose\n",
    "    #matrix = matrix.T\n",
    "    matrix = [] # To save some RAM\n",
    "\n",
    "    return matrix, histo_norm"
   ]
  },
  {
   "source": [
    "import os, os.path\n",
    "\n",
    "dat_file = list(filter(lambda k: '.dat' in k, os.listdir('.')))\n",
    "\n",
    "\n",
    "# From a single element list to a string\n",
    "dat_file = ''.join(dat_file)\n",
    "\n",
    "matrix, histo_norm = make_plots(pd.read_csv(dat_file, sep = '\\\\s+', header = None))\n",
    "\n",
    "\n",
    "histo_norm\n"
   ],
   "cell_type": "code",
   "metadata": {},
   "execution_count": 35,
   "outputs": [
    {
     "output_type": "execute_result",
     "data": {
      "text/plain": [
       "0        0.0\n",
       "1        0.0\n",
       "2        0.0\n",
       "3       13.0\n",
       "4       20.0\n",
       "       ...  \n",
       "76    1961.0\n",
       "77    1964.0\n",
       "78    1964.0\n",
       "79    1963.0\n",
       "80    1962.0\n",
       "Length: 81, dtype: float64"
      ]
     },
     "metadata": {},
     "execution_count": 35
    }
   ]
  },
  {
   "cell_type": "code",
   "execution_count": 40,
   "metadata": {},
   "outputs": [
    {
     "output_type": "execute_result",
     "data": {
      "text/plain": [
       "['prod_2000-13mM-dt10000.xtc']"
      ]
     },
     "metadata": {},
     "execution_count": 40
    }
   ],
   "source": [
    "import mdtraj as md\n",
    "\n",
    "trajectory_file = list(filter(lambda k: '.xtc' in k, os.listdir('.')))\n",
    "trajectory_file = list(filter(lambda k: 'NOPBC' not in k, trajectory_file))\n",
    "trajectory_file.remove('last_frame.xtc')\n",
    "trajectory_file = ''.join(trajectory_file)\n",
    "\n",
    "trajectory = md.load(trajectory_file, top = f'{nchains}_pep-{concentration}mM_{replica_number}.gro')"
   ]
  },
  {
   "cell_type": "code",
   "execution_count": null,
   "metadata": {},
   "outputs": [],
   "source": []
  }
 ]
}