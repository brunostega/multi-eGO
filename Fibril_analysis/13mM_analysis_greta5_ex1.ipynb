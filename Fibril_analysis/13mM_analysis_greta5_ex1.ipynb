{
 "metadata": {
  "language_info": {
   "codemirror_mode": {
    "name": "ipython",
    "version": 3
   },
   "file_extension": ".py",
   "mimetype": "text/x-python",
   "name": "python",
   "nbconvert_exporter": "python",
   "pygments_lexer": "ipython3",
   "version": "3.7.6-final"
  },
  "orig_nbformat": 2,
  "kernelspec": {
   "name": "python3",
   "display_name": "Python 3",
   "language": "python"
  }
 },
 "nbformat": 4,
 "nbformat_minor": 2,
 "cells": [
  {
   "cell_type": "markdown",
   "metadata": {},
   "source": [
    "# Analysis Jupyter Notebook\n",
    "#### Controlla il path della cartella"
   ]
  },
  {
   "cell_type": "markdown",
   "metadata": {},
   "source": [
    "## Data Handling\n",
    "### Creation of the aggregation matrix and indexing the fibrils"
   ]
  },
  {
   "cell_type": "code",
   "execution_count": null,
   "metadata": {},
   "outputs": [],
   "source": [
    "concentration = 13\n",
    "n_molecules = 2000\n",
    "timestep = 1000\n",
    "center_atoms = '-'"
   ]
  },
  {
   "cell_type": "code",
   "execution_count": null,
   "metadata": {
    "tags": []
   },
   "outputs": [],
   "source": [
    "# 2000 peptidi\n",
    "\n",
    "import gromacs\n",
    "from gromacs.fileformats import *\n",
    "from gromacs import cbook\n",
    "import string\n",
    "import numpy as np\n",
    "\n",
    "\n",
    "\n",
    "### Command for clustsize\n",
    "!{'rm \\#*'}\n",
    "clust_cmd = f'gmx_mpi clustsize -f prod_{n_molecules}-{concentration}mM.xtc -dt {timestep} -s prod_{n_molecules}-{concentration}mM.tpr -mol -hct -nice 0 -cut 0.4'\n",
    "print(clust_cmd)\n",
    "#!{clust_cmd}\n",
    "!{'rm \\#*'}\n",
    "#!{\"sed -i 's/clust /clust_/g' maxclust.ndx\"}\n",
    "\n",
    "#print(gromacs.release())\n",
    "\n"
   ]
  },
  {
   "cell_type": "markdown",
   "metadata": {},
   "source": [
    "### Extraction of the cluster information from maxclust.ndx"
   ]
  },
  {
   "cell_type": "code",
   "execution_count": null,
   "metadata": {},
   "outputs": [],
   "source": [
    "### Import the index as uniqueNDX to perform some operations\n",
    "maxclust_ndx = NDX('maxclust.ndx')\n",
    "\n",
    "### Creation of a dictionary which includes the index names and the atomnumber\n",
    "maxclust_dict = maxclust_ndx.sizes\n",
    "\n",
    "#print('Dictionary obtained from maxclust.ndx\\n', maxclust_dict)\n",
    "\n",
    "### Extraction of all the clusters, remove the max_clust (duplicated) and make a list of them\n",
    "fibril_dict = {key:val for key, val in maxclust_dict.items() if val != 85}\n",
    "fibril_list = list(fibril_dict.keys())\n",
    "fibril_list.remove('max_clust_')\n",
    "\n",
    "### Extraction of all the single molecules not part of a fibril and make a list of that\n",
    "not_fibril_dict = {key:val for key, val in maxclust_dict.items() if val == 85}\n",
    "not_fibril_list = list(not_fibril_dict.keys())\n",
    "\n",
    "#print('Dictionary containing the fibril\\n', fibril_dict)\n",
    "print('List containing the fibril\\n', fibril_list)\n",
    "#print(not_fibril_dict)\n",
    "#print('List of not fibril\\n', not_fibril_list)\n",
    "\n",
    "\n"
   ]
  },
  {
   "cell_type": "markdown",
   "metadata": {},
   "source": [
    "### Creation of a new clean index for chain labelling containing only the clusters and all the peptides in one single group at the end"
   ]
  },
  {
   "cell_type": "code",
   "execution_count": null,
   "metadata": {},
   "outputs": [],
   "source": [
    "np.set_printoptions(threshold=sys.maxsize)\n",
    "pdb_temp_ndx = open('pdb_temp.ndx', 'w')\n",
    "\n",
    "check_len = []\n",
    "\n",
    "for f in fibril_list:\n",
    "    pdb_temp_ndx.write(f'({f}) \\n')\n",
    "    print(f'{f} added in pdb_temp.ndx')\n",
    "\n",
    "    atom_array =  maxclust_ndx.get(f)\n",
    "    pdb_temp_ndx.write(str(atom_array) + '\\n\\n')\n",
    "    check_len.append(len(atom_array))\n",
    "    print(f'Containing {len(atom_array)} atoms\\n and {len(atom_array)/85} chains')\n",
    "\n",
    "pdb_temp_ndx.write(f'(not_fibril) \\n')\n",
    "for nf in not_fibril_list:\n",
    "    atom_array =  maxclust_ndx.get(nf)\n",
    "    pdb_temp_ndx.write(str(atom_array) + '\\n')\n",
    "    check_len.append(len(atom_array))\n",
    "\n",
    "print(f'Added {len(not_fibril_list)} peptides in pdb_temp.ndx')\n",
    "pdb_temp_ndx.close()\n",
    "\n",
    "with open('pdb_temp.ndx', 'r') as infile, open('pdb.ndx', 'w') as outfile:\n",
    "    data = infile.read()\n",
    "    data = data.replace(\"[\", \" \")\n",
    "    data = data.replace(\"]\", \" \")\n",
    "    data = data.replace(\"(\", \"[\")\n",
    "    data = data.replace(\")\", \"]\")\n",
    "    outfile.write(data)\n",
    "\n",
    "print('pdb_temp.ndx renamed to pdb.ndx with corrections')\n",
    "!{'rm pdb_temp.ndx'}\n",
    "\n",
    "if (sum(check_len)/85) == n_molecules:\n",
    "    print(f'\\n\\n\\n\\nThere are {sum(check_len)} atoms, equals to {int(sum(check_len)/85)}\\nCORRECT\\n\\n\\n\\n')\n",
    "else:\n",
    "    print('SOMETHING IS VERY WRONG')\n"
   ]
  },
  {
   "cell_type": "code",
   "execution_count": null,
   "metadata": {},
   "outputs": [],
   "source": [
    "### Print the values to print into the script\n",
    "array1 = list(range(0, (len(fibril_list)+1)))\n",
    "print(f'There are {len(fibril_list)} fibrils in trajectory. Group number {len(fibril_list)+1} contains all peptides not bound\\n',array1, '\\n')\n",
    "\n",
    "array2 = list(map(chr, range(97, (97+len(array1)))))\n",
    "print(f'The chain labels are the following: {array2}\\nas \"{array2[-1]}\" containing the not bound peptides')"
   ]
  },
  {
   "cell_type": "markdown",
   "metadata": {},
   "source": [
    "### Script for chain labelling"
   ]
  },
  {
   "cell_type": "code",
   "execution_count": null,
   "metadata": {},
   "outputs": [],
   "source": [
    "for a1, a2 in zip(array1, array2):\n",
    "    print(a1, a2)#.upper()) # Se le vuoi tutte maiuscole\n",
    "\n",
    "    # For each fibril you want to obtain the pdb and the esp files.\n",
    "    string_pdb = f'echo -e {a1} \\\\n | gmx_mpi editconf -f prod_{n_molecules}-{concentration}mM.tpr -n pdb.ndx -label {a2} -o clust{a1}.pdb'\n",
    "    string_esp = f'echo -e {a1} \\\\n | gmx_mpi editconf -f prod_{n_molecules}-{concentration}mM.tpr -n pdb.ndx -label {a2} -o clust{a1}.esp'\n",
    "    string_xtc = f'echo -e {a1} \\\\n | gmx_mpi trjconv -dt {timestep} -f NOPBC_prod_{n_molecules}-{concentration}mM-dt{timestep}.xtc -n pdb.ndx -o clust{a1}.xtc'\n",
    "    print(string_pdb)\n",
    "    !{string_pdb}\n",
    "    print(string_esp)\n",
    "    !{string_esp}\n",
    "    print(string_xtc)\n",
    "    !{string_xtc}\n",
    "\n",
    "    # Here the script takes the atom number from the esp file and paste into a temporary file    \n",
    "    string_sed = f\"sed 's/{{//' clust{a1}.esp | awk '{{print $1+1}}' > numero{a1}\"\n",
    "    print(string_sed)\n",
    "    !{string_sed}\n",
    "\n",
    "    # Here you add a line with \"1\" to align the numbers with the correct atom to paste into the pdb\n",
    "    string_sed2 = f\"sed -i '1s/^/1\\\\n/' numero{a1}\"\n",
    "    print(string_sed2)\n",
    "    !{string_sed2}\n",
    "\n",
    "    # Here you paste the number in the pdb file and save into another temp file\n",
    "    string_paste = f\"paste numero{a1} clust{a1}.pdb > chain{a1}\"\n",
    "    print(string_paste)\n",
    "    !{string_paste}\n",
    "\n",
    "    # This step append all the pdbs and extract only the atoms.\n",
    "    # Also you sort the atoms based on their real atom number and save into a temporary pdb file full with the fibril and not-fibril\n",
    "\n",
    "string_cat = \"cat chain* | grep ATOM | sort -k1 -g > temp_label-chain.pdb\"\n",
    "print(string_cat)\n",
    "!{string_cat}\n",
    "string_rm = \"rm numero* chain* clust*.esp\"\n",
    "print(string_rm)\n",
    "!{string_rm}\n",
    "\n",
    "# In this step you delete the first column which is the atom number from the esp file and save into the final pdb file\n",
    "\n",
    "string_cut = \"cut -f 1 --complement temp_label-chain.pdb > label-chain.pdb\"\n",
    "print(string_cut)\n",
    "!{string_cut}\n",
    "\n",
    "string_rm2 = \"rm temp_label-chain.pdb\"\n",
    "print(string_rm2)\n",
    "!{string_rm2}\n",
    "\n",
    "\n",
    "string_mkdir = \"mkdir clust_pdbs\"\n",
    "print(string_mkdir)\n",
    "!{string_mkdir}\n",
    "\n",
    "string_mv = \"mv clust*.pdb clust_pdbs/\"\n",
    "print(string_mv)\n",
    "!{string_mv}\n",
    "\n",
    "string_mv2 = \"mv clust*.xtc clust_pdbs/\"\n",
    "print(string_mv2)\n",
    "!{string_mv2}\n",
    "\n",
    "!{'rm \\#*'}"
   ]
  },
  {
   "cell_type": "markdown",
   "metadata": {},
   "source": [
    "### Matrix handling for fibril growth plots"
   ]
  },
  {
   "cell_type": "code",
   "execution_count": null,
   "metadata": {
    "tags": []
   },
   "outputs": [],
   "source": [
    "import pandas as pd\n",
    "import numpy as np\n",
    "import matplotlib\n",
    "import matplotlib.pyplot as plt\n",
    "import matplotlib.ticker\n",
    "from matplotlib.colors import ListedColormap\n",
    "\n",
    "%pwd\n",
    "%cd /media/data/emanuele/TTR/greta_test_cutoff_5_ex_1/epsilon_0345_gd_0/concentration_gradient/make_fibril_2000_e0345_gd_0_cutoff_5_ex_1_13mM_300K/analysis\n",
    "\n",
    "### Data import\n",
    "\n",
    "matrix = pd.read_csv('histo-time.dat', sep = '\\\\s+', header = None)\n",
    "\n",
    "# Changing the index so now it is in picoseconds\n",
    "#matrix[0] = matrix[0].apply(lambda x:x*10)\n",
    "#matrix = matrix.set_index([0])\n",
    "\n",
    "### Data handling\n",
    "#### Defining the Maxclust and the number of frames\n",
    "clustsize = list(range(0, len(matrix.columns), 1))\n",
    "frames = list(range(0, len(matrix.index), 1))\n",
    "fibril = list(range(2, len(matrix.columns)))\n",
    "#not_fibril = list(range(3, 10, 1))\n",
    "\n",
    "\n",
    "#### Multiply the columns for its clustsize\n",
    "size = pd.Series(clustsize)\n",
    "matrix = matrix.mul(size, axis = 1)\n",
    "\n",
    "#### Replace 0 with n.an\n",
    "matrix[matrix == 0] = np.nan\n",
    "\n",
    "#### I don't care about monomers\n",
    "matrix = matrix.drop([0, 1], axis = 1)\n",
    "\n",
    "### Make the histogram to compare with lab results\n",
    "# Set the not-fibril to 0 and have a sort of lag time \n",
    "histo_zero = matrix.copy()\n",
    "histo_zero[[2, 3, 4, 5, 6, 7, 8, 9, 10]] = 0\n",
    "histo_zero = histo_zero[fibril].sum(axis=1)\n",
    "\n",
    "# This one is the complete one\n",
    "histogram = matrix[fibril].sum(axis=1)\n",
    "\n",
    "# Matrix transpose\n",
    "matrix = matrix.T\n",
    "\n",
    "#print(matrix.to_string())"
   ]
  },
  {
   "cell_type": "markdown",
   "metadata": {},
   "source": [
    "### Colvar analysis for plots"
   ]
  },
  {
   "cell_type": "code",
   "execution_count": null,
   "metadata": {
    "tags": []
   },
   "outputs": [],
   "source": [
    "#prova = ListedColormap(['darkorange', 'gold', 'lawngreen', 'lightseagreen'])\n",
    "plt.pcolormesh(matrix, cmap = 'winter', rasterized = True)\n",
    "plt.ylabel('Clustsize x MW')\n",
    "plt.xlabel('Time (ns)')\n",
    "#plt.xlim(0, 2000)\n",
    "plt.suptitle('Aggregation profile of each cluster')\n",
    "plt.savefig(f'{concentration}mM_matrix_dt-{timestep}.png', dpi = 800)\n",
    "plt.show()\n"
   ]
  },
  {
   "cell_type": "code",
   "execution_count": null,
   "metadata": {},
   "outputs": [],
   "source": [
    "plt.scatter(frames, histo_zero, edgecolor = 'none', c=histo_zero, cmap='winter')\n",
    "plt.ylabel('Sum of clustsize x MW')\n",
    "plt.xlabel('Time')\n",
    "plt.xlim(0, 500)\n",
    "plt.ylim(0, 2000)\n",
    "plt.suptitle('System Aggregation Profile')\n",
    "plt.savefig(f'{concentration}mM_histo_dt-{timestep}.png', dpi = 800, figsize = (10,10))\n",
    "plt.xlim(xmin=0)\n",
    "plt.show()"
   ]
  },
  {
   "cell_type": "code",
   "execution_count": null,
   "metadata": {},
   "outputs": [],
   "source": [
    "plt.scatter(frames, histogram, edgecolor = 'none', c=histo_zero, cmap='winter')\n",
    "plt.ylabel('Sum of clustsize x MW')\n",
    "plt.xlabel('Time')\n",
    "plt.xlim(0, 500)\n",
    "plt.ylim(0, 2000)\n",
    "plt.suptitle('System Aggregation Profile')\n",
    "plt.savefig(f'{concentration}mM_histo_dt-{timestep}.png', dpi = 800, figsize = (10,10))\n",
    "plt.xlim(xmin=0)\n",
    "plt.show()"
   ]
  },
  {
   "source": [
    "#### Plumed WHOLEMOLECULES"
   ],
   "cell_type": "markdown",
   "metadata": {}
  },
  {
   "cell_type": "code",
   "execution_count": null,
   "metadata": {},
   "outputs": [],
   "source": [
    "plumed_dat = open('plumed.dat', 'w')\n",
    "\n",
    "# Select the most centered atoms in the most central molecule\n",
    "plumed_dat.write(f'C: CENTER ATOMS={center_atoms}\\n')\n",
    "\n",
    "# Declaring every chain in plumed.dat\n",
    "for mol in range(1, (n_molecules + 1)):\n",
    "    chain_line = f'chain_{mol}: GROUP NDX_FILE=plumed.ndx NDX_GROUP=System_chain{mol}\\n'\n",
    "    plumed_dat.write(chain_line)\n",
    "    #print(chain_line)\n",
    "\n",
    "plumed_dat.write(f'fibril: GROUP ATOMS=1-170000\\n')\n",
    "plumed_dat.write('WRAPAROUND ATOMS=fibril AROUND=C\\n')\n",
    "plumed_dat.write('WHOLEMOLECULES ...\\n')\n",
    "\n",
    "for mol in range(0, n_molecules):\n",
    "    chain_line = f'ENTITY{mol}=chain_{mol + 1}\\n'\n",
    "    plumed_dat.write(chain_line)\n",
    "    #print(chain_line)\n",
    "\n",
    "plumed_dat.write('...\\nDUMPATOMS FILE=plumed_ndx.xtc ATOMS=fibril')\n",
    "plumed_dat.close()\n",
    "\n",
    "\n",
    "plumed_driver = f'plumed driver --plumed plumed.dat --ixtc NOPBC_prod_{n_molecules}-{concentration}mM-dt{timestep}.xtc'\n",
    "!{plumed_driver}"
   ]
  }
 ]
}