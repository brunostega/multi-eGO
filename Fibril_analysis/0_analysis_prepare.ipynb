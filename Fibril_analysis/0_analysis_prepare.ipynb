{
 "metadata": {
  "language_info": {
   "codemirror_mode": {
    "name": "ipython",
    "version": 3
   },
   "file_extension": ".py",
   "mimetype": "text/x-python",
   "name": "python",
   "nbconvert_exporter": "python",
   "pygments_lexer": "ipython3",
   "version": "3.7.6-final"
  },
  "orig_nbformat": 2,
  "kernelspec": {
   "name": "python376jvsc74a57bd08c59a66eb943e4d799fe41f296e6179be63a88f5d455d862c370ed6ecf30b310",
   "display_name": "Python 3.7.6 64-bit ('py37': conda)"
  }
 },
 "nbformat": 4,
 "nbformat_minor": 2,
 "cells": [
  {
   "source": [
    "# Jupyter Notebook to prepare files for analysis\n",
    "\n",
    "This script prepare files for analysis which will be further used in other jupyter notebooks to evaluate aggregation plots, clusterings of the fibrils, chain labelling, and aggregation matrixes for every frame"
   ],
   "cell_type": "markdown",
   "metadata": {}
  },
  {
   "source": [
    "Inputs:\n",
    "Peptides concentration\n",
    "Number of replica\n",
    "timestep"
   ],
   "cell_type": "markdown",
   "metadata": {}
  },
  {
   "cell_type": "code",
   "execution_count": 5,
   "metadata": {},
   "outputs": [],
   "source": [
    "concentration = 13\n",
    "replica_number = 1\n",
    "dt = 1000\n",
    "cdt = 100000\n",
    "temperature = 308\n",
    "nchains = 2000\n",
    "atoms_in_chain = 85\n",
    "\n",
    "# Valuta se fargli scrivere queste info su un file in modo da farli leggere in automatico agli altri script"
   ]
  },
  {
   "cell_type": "code",
   "execution_count": 6,
   "metadata": {},
   "outputs": [],
   "source": [
    "def rename_chains(filename):\n",
    "    with open('fibril.pdb', 'r+') as f:\n",
    "        # Read the pdb file\n",
    "        lines = f.readlines()\n",
    "        # Change the column number 22 which is the chain id in the pdb\n",
    "        column = 22 - 1\n",
    "\n",
    "        # We want to change all the lines of the atoms\n",
    "        replace_line = list(range(4,(len(lines)-2)))\n",
    "\n",
    "        # We start from a chain id 0 (to 9, stated below)\n",
    "        # This is possibile since mdtraj does not rebuild the \"broken chains\"\n",
    "        chain_id = 0\n",
    "        count_atoms = 1\n",
    "        # Delete the character for every line in range and replace with our chain id\n",
    "        for l in replace_line:\n",
    "            lines[l]=lines[l][0:column]+str(chain_id)+lines[l][column+1:]\n",
    "            #print(count_atoms, 'count_atoms')\n",
    "            count_atoms += 1\n",
    "            #print(chain_id, 'word')\n",
    "            #print(l, 'line')\n",
    "            if count_atoms > atoms_in_chain: # as soon as we complete the first molecule\n",
    "                chain_id += 1 # We add one chain identifier\n",
    "                count_atoms = 1 # Reset the atom counter\n",
    "                if chain_id == 10: # Only the column 22 so only one digit is allowed, therefore we start again\n",
    "                    chain_id = 0\n",
    "\n",
    "        # Delete the pdb file\n",
    "        f.seek(0)\n",
    "\n",
    "        # Replace the pdb with the new lines\n",
    "        for i in lines:\n",
    "            f.write(i)"
   ]
  },
  {
   "source": [
    "### Trajectories preparation\n",
    "#### Here the trajectories are appended into a single one."
   ],
   "cell_type": "markdown",
   "metadata": {}
  },
  {
   "cell_type": "code",
   "execution_count": 7,
   "metadata": {},
   "outputs": [
    {
     "output_type": "stream",
     "name": "stdout",
     "text": [
      "/media/data/emanuele/TTR/greta_test_cutoff_55_ex_3/epsilon_0295_harp2_c12_Native2reweight_noN1_gd0/concentration_gradient/make_fibril_2000_13mM_308K_1\n0_analysis_prepare.ipynb         prod_2000-13mM-posre.cpt\n2000_pep-13mM_1.gro              prod_2000-13mM-posre.edr\nNOPBC_prod_2000-13mM-dt1000.xtc  prod_2000-13mM-posre.gro\n\u001b[0m\u001b[01;34manalysis\u001b[0m/                        prod_2000-13mM-posre.log\ncg_2000-13mM.edr                 prod_2000-13mM-posre.tpr\ncg_2000-13mM.gro                 prod_2000-13mM-posre.xtc\ncg_2000-13mM.log                 prod_2000-13mM-posre_prev.cpt\ncg_2000-13mM.tpr                 prod_2000-13mM_1.cpt\ncg_2000-13mM.trr                 prod_2000-13mM_1.part0001.edr\ndaint_submit                     prod_2000-13mM_1.part0001.log\nff_aa-posre.mdp                  prod_2000-13mM_1.part0001.xtc\nff_aa.mdp                        prod_2000-13mM_1.part0002.edr\nff_cg.mdp                        prod_2000-13mM_1.part0002.log\nff_em.mdp                        prod_2000-13mM_1.part0002.xtc\ngromos-peptide.gro               prod_2000-13mM_1.part0003.edr\nlast_frame                       prod_2000-13mM_1.part0003.log\nlast_temp.pdb                    prod_2000-13mM_1.part0003.xtc\nlog-posre.txt                    prod_2000-13mM_1.tpr\nmdout.mdp                        prod_2000-13mM_1_prev.cpt\nmin_2000-13mM.edr                prod_2000-13mM_full.xtc\nmin_2000-13mM.gro                script_dep.sh\nmin_2000-13mM.log                slurm-30665641.out\nmin_2000-13mM.tpr                slurm-30665642.out\nmin_2000-13mM.trr                slurm-30665643.out\nposre.itp                        topol_GRETA.top\nprocessed.top                    trjlog.txt\n"
     ]
    }
   ],
   "source": [
    "directory = f'/media/data/emanuele/TTR/greta_test_cutoff_55_ex_3/epsilon_0295_harp2_c12_Native2reweight_noN1_gd0/concentration_gradient/make_fibril_{nchains}_{concentration}mM_{temperature}K_{replica_number}'\n",
    "%cd $directory\n",
    "%mkdir analysis\n",
    "%ls"
   ]
  },
  {
   "cell_type": "code",
   "execution_count": 3,
   "metadata": {},
   "outputs": [
    {
     "output_type": "execute_result",
     "data": {
      "text/plain": [
       "'prod_2000-13mM.part0001.xtc prod_2000-13mM.part0002.xtc prod_2000-13mM.part0003.xtc prod_2000-13mM.part0004.xtc'"
      ]
     },
     "metadata": {},
     "execution_count": 3
    }
   ],
   "source": [
    "import os, os.path\n",
    "file_list = os.listdir('.')\n",
    "file_list = list(filter(lambda k: 'part' in k, file_list))\n",
    "file_list = list(filter(lambda k: 'xtc' in k, file_list))\n",
    "file_list.sort()\n",
    "file_list = ' '.join(file_list)\n",
    "file_list"
   ]
  },
  {
   "cell_type": "code",
   "execution_count": 4,
   "metadata": {},
   "outputs": [
    {
     "output_type": "stream",
     "name": "stdout",
     "text": [
      "Invalid MIT-MAGIC-COOKIE-1 key                 :-) GROMACS - gmx trjcat, 2020.3-MODIFIED (-:\n",
      "\n",
      "                            GROMACS is written by:\n",
      "     Emile Apol      Rossen Apostolov      Paul Bauer     Herman J.C. Berendsen\n",
      "    Par Bjelkmar      Christian Blau   Viacheslav Bolnykh     Kevin Boyd    \n",
      " Aldert van Buuren   Rudi van Drunen     Anton Feenstra       Alan Gray     \n",
      "  Gerrit Groenhof     Anca Hamuraru    Vincent Hindriksen  M. Eric Irrgang  \n",
      "  Aleksei Iupinov   Christoph Junghans     Joe Jordan     Dimitrios Karkoulis\n",
      "    Peter Kasson        Jiri Kraus      Carsten Kutzner      Per Larsson    \n",
      "  Justin A. Lemkul    Viveca Lindahl    Magnus Lundborg     Erik Marklund   \n",
      "    Pascal Merz     Pieter Meulenhoff    Teemu Murtola       Szilard Pall   \n",
      "    Sander Pronk      Roland Schulz      Michael Shirts    Alexey Shvetsov  \n",
      "   Alfons Sijbers     Peter Tieleman      Jon Vincent      Teemu Virolainen \n",
      " Christian Wennberg    Maarten Wolf      Artem Zhmurov   \n",
      "                           and the project leaders:\n",
      "        Mark Abraham, Berk Hess, Erik Lindahl, and David van der Spoel\n",
      "\n",
      "Copyright (c) 1991-2000, University of Groningen, The Netherlands.\n",
      "Copyright (c) 2001-2019, The GROMACS development team at\n",
      "Uppsala University, Stockholm University and\n",
      "the Royal Institute of Technology, Sweden.\n",
      "check out http://www.gromacs.org for more information.\n",
      "\n",
      "GROMACS is free software; you can redistribute it and/or modify it\n",
      "under the terms of the GNU Lesser General Public License\n",
      "as published by the Free Software Foundation; either version 2.1\n",
      "of the License, or (at your option) any later version.\n",
      "\n",
      "GROMACS:      gmx trjcat, version 2020.3-MODIFIED\n",
      "Executable:   /opt/gromacs-2020.3/bin/gmx_mpi\n",
      "Data prefix:  /opt/gromacs-2020.3\n",
      "Working dir:  /media/data/emanuele/TTR/greta_test_cutoff_55_ex_3/epsilon_0295_c12_Native2reweight_noN1_gd0/concentration_gradient/make_fibril_2000_13mM_304K_analysis_test\n",
      "Command line:\n",
      "  gmx_mpi trjcat -f prod_2000-13mM.part0001.xtc prod_2000-13mM.part0002.xtc prod_2000-13mM.part0003.xtc prod_2000-13mM.part0004.xtc -o prod_2000-13mM_full\n",
      "\n",
      "Reading frame       1 time 1534500.000   \n",
      "\n",
      "Summary of files and start times used:\n",
      "\n",
      "          File                Start time       Time step\n",
      "---------------------------------------------------------\n",
      "prod_2000-13mM.part0001.xtc        0.000 ps       50.000 ps\n",
      "prod_2000-13mM.part0002.xtc   828500.000 ps       50.000 ps\n",
      "prod_2000-13mM.part0003.xtc   1282900.000 ps       50.000 ps\n",
      "prod_2000-13mM.part0004.xtc   1534450.000 ps       50.000 ps\n",
      "\n",
      "Reading frame       0 time    0.000   Note that major changes are planned in future for trjcat, to improve usability and utility.\n",
      "lasttime 0\n",
      "\n",
      "Continue writing frames from prod_2000-13mM.part0001.xtc t=0 ps, frame=0      \n",
      "\n",
      "Reading frame       0 time 828500.000   \n",
      "lasttime 828450\n",
      "\n",
      "Continue writing frames from prod_2000-13mM.part0002.xtc t=828500 ps, frame=16570      \n",
      "\n",
      "Reading frame       0 time 1282900.000   \n",
      "lasttime 1.28285e+06\n",
      "\n",
      "Continue writing frames from prod_2000-13mM.part0003.xtc t=1.2829e+06 ps, frame=25658      \n",
      "\n",
      "Reading frame       0 time 1534450.000   \n",
      "lasttime 1.5344e+06\n",
      "\n",
      "Continue writing frames from prod_2000-13mM.part0004.xtc t=1.53445e+06 ps, frame=30689      \n",
      "\n",
      "\n",
      "Last frame written was 35763, time 1788150.000000 ps\n",
      "\n",
      "GROMACS reminds you: \"This is where we have been working hard to push down performance.\" (Szilard Pall, GTC 2015 talk)\n",
      "\n"
     ]
    }
   ],
   "source": [
    "trjcat = f'gmx_mpi trjcat -f {file_list} -o prod_{nchains}-{concentration}mM_full'\n",
    "!{trjcat}"
   ]
  },
  {
   "source": [
    "#### Two trajectories are made with timestep and one includes also the pbc. The one without pbc will be used for cluststize."
   ],
   "cell_type": "markdown",
   "metadata": {}
  },
  {
   "source": [
    "NOPBC trajectory"
   ],
   "cell_type": "markdown",
   "metadata": {}
  },
  {
   "cell_type": "code",
   "execution_count": 5,
   "metadata": {},
   "outputs": [
    {
     "output_type": "stream",
     "name": "stdout",
     "text": [
      "Invalid MIT-MAGIC-COOKIE-1 key                 :-) GROMACS - gmx trjconv, 2020.3-MODIFIED (-:\n",
      "\n",
      "                            GROMACS is written by:\n",
      "     Emile Apol      Rossen Apostolov      Paul Bauer     Herman J.C. Berendsen\n",
      "    Par Bjelkmar      Christian Blau   Viacheslav Bolnykh     Kevin Boyd    \n",
      " Aldert van Buuren   Rudi van Drunen     Anton Feenstra       Alan Gray     \n",
      "  Gerrit Groenhof     Anca Hamuraru    Vincent Hindriksen  M. Eric Irrgang  \n",
      "  Aleksei Iupinov   Christoph Junghans     Joe Jordan     Dimitrios Karkoulis\n",
      "    Peter Kasson        Jiri Kraus      Carsten Kutzner      Per Larsson    \n",
      "  Justin A. Lemkul    Viveca Lindahl    Magnus Lundborg     Erik Marklund   \n",
      "    Pascal Merz     Pieter Meulenhoff    Teemu Murtola       Szilard Pall   \n",
      "    Sander Pronk      Roland Schulz      Michael Shirts    Alexey Shvetsov  \n",
      "   Alfons Sijbers     Peter Tieleman      Jon Vincent      Teemu Virolainen \n",
      " Christian Wennberg    Maarten Wolf      Artem Zhmurov   \n",
      "                           and the project leaders:\n",
      "        Mark Abraham, Berk Hess, Erik Lindahl, and David van der Spoel\n",
      "\n",
      "Copyright (c) 1991-2000, University of Groningen, The Netherlands.\n",
      "Copyright (c) 2001-2019, The GROMACS development team at\n",
      "Uppsala University, Stockholm University and\n",
      "the Royal Institute of Technology, Sweden.\n",
      "check out http://www.gromacs.org for more information.\n",
      "\n",
      "GROMACS is free software; you can redistribute it and/or modify it\n",
      "under the terms of the GNU Lesser General Public License\n",
      "as published by the Free Software Foundation; either version 2.1\n",
      "of the License, or (at your option) any later version.\n",
      "\n",
      "GROMACS:      gmx trjconv, version 2020.3-MODIFIED\n",
      "Executable:   /opt/gromacs-2020.3/bin/gmx_mpi\n",
      "Data prefix:  /opt/gromacs-2020.3\n",
      "Working dir:  /media/data/emanuele/TTR/greta_test_cutoff_55_ex_3/epsilon_0295_c12_Native2reweight_noN1_gd0/concentration_gradient/make_fibril_2000_13mM_304K_analysis_test\n",
      "Command line:\n",
      "  gmx_mpi trjconv -s prod_2000-13mM.tpr -f prod_2000-13mM_full.xtc -o NOPBC_prod_2000-13mM-dt1000 -dt 1000 -pbc mol -center -nice 0\n",
      "\n",
      "Note that major changes are planned in future for trjconv, to improve usability and utility.\n",
      "Will write xtc: Compressed trajectory (portable xdr format): xtc\n",
      "Reading file prod_2000-13mM.tpr, VERSION 2020.3-MODIFIED (single precision)\n",
      "Reading file prod_2000-13mM.tpr, VERSION 2020.3-MODIFIED (single precision)\n",
      "Select group for centering\n",
      "Group     0 (         System) has 170000 elements\n",
      "Group     1 (        Protein) has 170000 elements\n",
      "Group     2 (      Protein-H) has 170000 elements\n",
      "Group     3 (        C-alpha) has 22000 elements\n",
      "Group     4 (       Backbone) has 66000 elements\n",
      "Group     5 (      MainChain) has 90000 elements\n",
      "Group     6 (   MainChain+Cb) has 112000 elements\n",
      "Group     7 (    MainChain+H) has 90000 elements\n",
      "Group     8 (      SideChain) has 80000 elements\n",
      "Group     9 (    SideChain-H) has 80000 elements\n",
      "Select a group: Selected 0: 'System'\n",
      "Select group for output\n",
      "Group     0 (         System) has 170000 elements\n",
      "Group     1 (        Protein) has 170000 elements\n",
      "Group     2 (      Protein-H) has 170000 elements\n",
      "Group     3 (        C-alpha) has 22000 elements\n",
      "Group     4 (       Backbone) has 66000 elements\n",
      "Group     5 (      MainChain) has 90000 elements\n",
      "Group     6 (   MainChain+Cb) has 112000 elements\n",
      "Group     7 (    MainChain+H) has 90000 elements\n",
      "Group     8 (      SideChain) has 80000 elements\n",
      "Group     9 (    SideChain-H) has 80000 elements\n",
      "Select a group: Selected 0: 'System'\n",
      "Reading frame       0 time    0.000   \n",
      "Precision of prod_2000-13mM_full.xtc is 0.001 (nm)\n",
      "Using output precision of 0.001 (nm)\n",
      "\n",
      "\n",
      "\n",
      "GROMACS reminds you: \"This work contains many things which are new and interesting. Unfortunately, everything that is new is not interesting, and everything which is interesting, is not new.\" (Lev Landau)\n",
      "\n"
     ]
    }
   ],
   "source": [
    "string = f'echo -e \"0\\n0\\n\" | gmx_mpi trjconv -s prod_{nchains}-{concentration}mM_{replica_number}.tpr -f prod_{nchains}-{concentration}mM_full.xtc -o NOPBC_prod_{nchains}-{concentration}mM-dt{dt} -dt {dt} -pbc mol -center -nice 0'\n",
    "!{string}"
   ]
  },
  {
   "source": [
    "Clustsize trajectory"
   ],
   "cell_type": "markdown",
   "metadata": {}
  },
  {
   "cell_type": "code",
   "execution_count": 6,
   "metadata": {},
   "outputs": [
    {
     "output_type": "stream",
     "name": "stdout",
     "text": [
      "Invalid MIT-MAGIC-COOKIE-1 key                 :-) GROMACS - gmx trjconv, 2020.3-MODIFIED (-:\n",
      "\n",
      "                            GROMACS is written by:\n",
      "     Emile Apol      Rossen Apostolov      Paul Bauer     Herman J.C. Berendsen\n",
      "    Par Bjelkmar      Christian Blau   Viacheslav Bolnykh     Kevin Boyd    \n",
      " Aldert van Buuren   Rudi van Drunen     Anton Feenstra       Alan Gray     \n",
      "  Gerrit Groenhof     Anca Hamuraru    Vincent Hindriksen  M. Eric Irrgang  \n",
      "  Aleksei Iupinov   Christoph Junghans     Joe Jordan     Dimitrios Karkoulis\n",
      "    Peter Kasson        Jiri Kraus      Carsten Kutzner      Per Larsson    \n",
      "  Justin A. Lemkul    Viveca Lindahl    Magnus Lundborg     Erik Marklund   \n",
      "    Pascal Merz     Pieter Meulenhoff    Teemu Murtola       Szilard Pall   \n",
      "    Sander Pronk      Roland Schulz      Michael Shirts    Alexey Shvetsov  \n",
      "   Alfons Sijbers     Peter Tieleman      Jon Vincent      Teemu Virolainen \n",
      " Christian Wennberg    Maarten Wolf      Artem Zhmurov   \n",
      "                           and the project leaders:\n",
      "        Mark Abraham, Berk Hess, Erik Lindahl, and David van der Spoel\n",
      "\n",
      "Copyright (c) 1991-2000, University of Groningen, The Netherlands.\n",
      "Copyright (c) 2001-2019, The GROMACS development team at\n",
      "Uppsala University, Stockholm University and\n",
      "the Royal Institute of Technology, Sweden.\n",
      "check out http://www.gromacs.org for more information.\n",
      "\n",
      "GROMACS is free software; you can redistribute it and/or modify it\n",
      "under the terms of the GNU Lesser General Public License\n",
      "as published by the Free Software Foundation; either version 2.1\n",
      "of the License, or (at your option) any later version.\n",
      "\n",
      "GROMACS:      gmx trjconv, version 2020.3-MODIFIED\n",
      "Executable:   /opt/gromacs-2020.3/bin/gmx_mpi\n",
      "Data prefix:  /opt/gromacs-2020.3\n",
      "Working dir:  /media/data/emanuele/TTR/greta_test_cutoff_55_ex_3/epsilon_0295_c12_Native2reweight_noN1_gd0/concentration_gradient/make_fibril_2000_13mM_304K_analysis_test\n",
      "Command line:\n",
      "  gmx_mpi trjconv -s prod_2000-13mM.tpr -f prod_2000-13mM_full.xtc -o analysis/prod_2000-13mM-dt100000 -dt 100000 -nice 0\n",
      "\n",
      "Note that major changes are planned in future for trjconv, to improve usability and utility.\n",
      "Will write xtc: Compressed trajectory (portable xdr format): xtc\n",
      "Reading file prod_2000-13mM.tpr, VERSION 2020.3-MODIFIED (single precision)\n",
      "Reading file prod_2000-13mM.tpr, VERSION 2020.3-MODIFIED (single precision)\n",
      "Select group for output\n",
      "Group     0 (         System) has 170000 elements\n",
      "Group     1 (        Protein) has 170000 elements\n",
      "Group     2 (      Protein-H) has 170000 elements\n",
      "Group     3 (        C-alpha) has 22000 elements\n",
      "Group     4 (       Backbone) has 66000 elements\n",
      "Group     5 (      MainChain) has 90000 elements\n",
      "Group     6 (   MainChain+Cb) has 112000 elements\n",
      "Group     7 (    MainChain+H) has 90000 elements\n",
      "Group     8 (      SideChain) has 80000 elements\n",
      "Group     9 (    SideChain-H) has 80000 elements\n",
      "Select a group: Selected 0: 'System'\n",
      "Reading frame       0 time    0.000   \n",
      "Precision of prod_2000-13mM_full.xtc is 0.001 (nm)\n",
      "Using output precision of 0.001 (nm)\n",
      "Reading frame   35000 time 1750000.000   \n",
      "\n",
      "\n",
      "GROMACS reminds you: \"What's Your Definition Of Dirty ?\" (G. Michael)\n",
      "\n"
     ]
    }
   ],
   "source": [
    "string = f'echo -e \"0\\n0\\n\" | gmx_mpi trjconv -s prod_{nchains}-{concentration}mM_{replica_number}.tpr -f prod_{nchains}-{concentration}mM_full.xtc -o analysis/prod_{nchains}-{concentration}mM-dt{cdt} -dt {cdt} -nice 0'\n",
    "!{string}"
   ]
  },
  {
   "source": [
    "### Clustsize part\n",
    "#### Writing the maxclust.ndx of the last frame for chain labelling"
   ],
   "cell_type": "markdown",
   "metadata": {}
  },
  {
   "cell_type": "code",
   "execution_count": 18,
   "metadata": {},
   "outputs": [
    {
     "output_type": "stream",
     "name": "stdout",
     "text": [
      "[Errno 2] No such file or directory: 'analysis/'\n",
      "/media/data/emanuele/TTR/greta_test_cutoff_55_ex_3/epsilon_0295_c12_Native2reweight_noN1_gd0/concentration_gradient/make_fibril_2000_13mM_304K_analysis_test/analysis\n",
      "ln: failed to create symbolic link './2000_pep-13mM.gro': File exists\n",
      "ln: failed to create symbolic link './prod_2000-13mM.tpr': File exists\n"
     ]
    }
   ],
   "source": [
    "%cd $directory\n",
    "%cd analysis/\n",
    "string = f'ln -s ../{nchains}_pep-{concentration}mM_{replica_number}.gro'\n",
    "!{string}\n",
    "string = f'ln -s ../prod_{nchains}-{concentration}mM_{replica_number}.tpr'\n",
    "!{string}\n",
    "string = f'ln -s ../NOPBC_prod_{nchains}-{concentration}mM-dt{dt}.xtc'\n",
    "!{string}"
   ]
  },
  {
   "cell_type": "code",
   "execution_count": 23,
   "metadata": {},
   "outputs": [
    {
     "output_type": "stream",
     "name": "stdout",
     "text": [
      "<mdtraj.Trajectory with 1 frames, 170000 atoms, 22000 residues, and unitcells>\n"
     ]
    }
   ],
   "source": [
    "%cd $directory\n",
    "%cd analysis/\n",
    "# Saving the last frame coordinates for maxclust.ndx\n",
    "import mdtraj as md\n",
    "trajectory = md.load(f'NOPBC_prod_{nchains}-{concentration}mM-dt{dt}.xtc', top = f'{nchains}_pep-{concentration}mM_{replica_number}.gro')\n",
    "\n",
    "print(trajectory[-1])\n",
    "trajectory[-1].save('last_frame.xtc')\n",
    "trajectory = 0 # I hope this will save some RAM"
   ]
  },
  {
   "cell_type": "code",
   "execution_count": 20,
   "metadata": {},
   "outputs": [
    {
     "output_type": "stream",
     "name": "stdout",
     "text": [
      "Invalid MIT-MAGIC-COOKIE-1 key                :-) GROMACS - gmx clustsize, 2020.3-MODIFIED (-:\n",
      "\n",
      "                            GROMACS is written by:\n",
      "     Emile Apol      Rossen Apostolov      Paul Bauer     Herman J.C. Berendsen\n",
      "    Par Bjelkmar      Christian Blau   Viacheslav Bolnykh     Kevin Boyd    \n",
      " Aldert van Buuren   Rudi van Drunen     Anton Feenstra       Alan Gray     \n",
      "  Gerrit Groenhof     Anca Hamuraru    Vincent Hindriksen  M. Eric Irrgang  \n",
      "  Aleksei Iupinov   Christoph Junghans     Joe Jordan     Dimitrios Karkoulis\n",
      "    Peter Kasson        Jiri Kraus      Carsten Kutzner      Per Larsson    \n",
      "  Justin A. Lemkul    Viveca Lindahl    Magnus Lundborg     Erik Marklund   \n",
      "    Pascal Merz     Pieter Meulenhoff    Teemu Murtola       Szilard Pall   \n",
      "    Sander Pronk      Roland Schulz      Michael Shirts    Alexey Shvetsov  \n",
      "   Alfons Sijbers     Peter Tieleman      Jon Vincent      Teemu Virolainen \n",
      " Christian Wennberg    Maarten Wolf      Artem Zhmurov   \n",
      "                           and the project leaders:\n",
      "        Mark Abraham, Berk Hess, Erik Lindahl, and David van der Spoel\n",
      "\n",
      "Copyright (c) 1991-2000, University of Groningen, The Netherlands.\n",
      "Copyright (c) 2001-2019, The GROMACS development team at\n",
      "Uppsala University, Stockholm University and\n",
      "the Royal Institute of Technology, Sweden.\n",
      "check out http://www.gromacs.org for more information.\n",
      "\n",
      "GROMACS is free software; you can redistribute it and/or modify it\n",
      "under the terms of the GNU Lesser General Public License\n",
      "as published by the Free Software Foundation; either version 2.1\n",
      "of the License, or (at your option) any later version.\n",
      "\n",
      "GROMACS:      gmx clustsize, version 2020.3-MODIFIED\n",
      "Executable:   /opt/gromacs-2020.3/bin/gmx_mpi\n",
      "Data prefix:  /opt/gromacs-2020.3\n",
      "Working dir:  /media/data/emanuele/TTR/greta_test_cutoff_55_ex_3/epsilon_0295_c12_Native2reweight_noN1_gd0/concentration_gradient/make_fibril_2000_13mM_304K_analysis_test/analysis\n",
      "Command line:\n",
      "  gmx_mpi clustsize -f last_frame.xtc -s prod_2000-13mM.tpr -mol -nice 0 -cut 0.4 -mcn last_frame.ndx\n",
      "\n",
      "Reading frame       0 time 1788000.000   Reading file prod_2000-13mM.tpr, VERSION 2020.3-MODIFIED (single precision)\n",
      "Reading file prod_2000-13mM.tpr, VERSION 2020.3-MODIFIED (single precision)\n",
      "Last frame          0 time 1788000.000   \n",
      "Total number of atoms in clusters =  2000\n",
      "cmid: 1, cmax: 52, max_size: 1948\n",
      "                     1 1 1 1 1 1 1 1 1 1 2 2 2 2 2 2 2 2 2 3 3 3 3 3 3 3 3 3 3 4 4 4 4 4 4 4 4 4 4 5 5 5 5 5 5 5 5 5 5 6 6 6 6 6 6 6 6 6 7 7 7 7 7 7 7 7 7 7 8 8 8 8 8 8 8 8 8 8 9 9 9 9 9 9 9 9 910cmid: 52, cmax: 1948, max_size: 1948\n",
      "                     1 1 1 1 1 1 1 1 1 1 2 2 2 2 2 2 2 2 2 3 3 3 3 3 3 3 3 3 3 4 4 4 4 4 4 4 4 4 4 5 5 5 5 5 5 5 5 5 5 6 6 6 6 6 6 6 6 6 7 7 7 7 7 7 7 7 7 7 8 8 8 8 8 8 8 8 8 8 9 9 9 9 9 9 9 9 910\n",
      "GROMACS reminds you: \"Sometimes Life is Obscene\" (Black Crowes)\n",
      "\n"
     ]
    }
   ],
   "source": [
    "%cd $directory\n",
    "%cd analysis/\n",
    "string = f'gmx_mpi clustsize -f last_frame.xtc -s prod_{nchains}-{concentration}mM_{replica_number}.tpr -mol -nice 0 -cut 0.4 -mcn last_frame.ndx'\n",
    "!{string}\n",
    "!{'rm *clust* histo-time.dat csize* temp.xvg'}"
   ]
  },
  {
   "cell_type": "code",
   "execution_count": 24,
   "metadata": {},
   "outputs": [
    {
     "output_type": "stream",
     "name": "stdout",
     "text": [
      "1617812082.4155436\n",
      "Invalid MIT-MAGIC-COOKIE-1 key                :-) GROMACS - gmx clustsize, 2020.3-MODIFIED (-:\n",
      "\n",
      "                            GROMACS is written by:\n",
      "     Emile Apol      Rossen Apostolov      Paul Bauer     Herman J.C. Berendsen\n",
      "    Par Bjelkmar      Christian Blau   Viacheslav Bolnykh     Kevin Boyd    \n",
      " Aldert van Buuren   Rudi van Drunen     Anton Feenstra       Alan Gray     \n",
      "  Gerrit Groenhof     Anca Hamuraru    Vincent Hindriksen  M. Eric Irrgang  \n",
      "  Aleksei Iupinov   Christoph Junghans     Joe Jordan     Dimitrios Karkoulis\n",
      "    Peter Kasson        Jiri Kraus      Carsten Kutzner      Per Larsson    \n",
      "  Justin A. Lemkul    Viveca Lindahl    Magnus Lundborg     Erik Marklund   \n",
      "    Pascal Merz     Pieter Meulenhoff    Teemu Murtola       Szilard Pall   \n",
      "    Sander Pronk      Roland Schulz      Michael Shirts    Alexey Shvetsov  \n",
      "   Alfons Sijbers     Peter Tieleman      Jon Vincent      Teemu Virolainen \n",
      " Christian Wennberg    Maarten Wolf      Artem Zhmurov   \n",
      "                           and the project leaders:\n",
      "        Mark Abraham, Berk Hess, Erik Lindahl, and David van der Spoel\n",
      "\n",
      "Copyright (c) 1991-2000, University of Groningen, The Netherlands.\n",
      "Copyright (c) 2001-2019, The GROMACS development team at\n",
      "Uppsala University, Stockholm University and\n",
      "the Royal Institute of Technology, Sweden.\n",
      "check out http://www.gromacs.org for more information.\n",
      "\n",
      "GROMACS is free software; you can redistribute it and/or modify it\n",
      "under the terms of the GNU Lesser General Public License\n",
      "as published by the Free Software Foundation; either version 2.1\n",
      "of the License, or (at your option) any later version.\n",
      "\n",
      "GROMACS:      gmx clustsize, version 2020.3-MODIFIED\n",
      "Executable:   /opt/gromacs-2020.3/bin/gmx_mpi\n",
      "Data prefix:  /opt/gromacs-2020.3\n",
      "Working dir:  /media/data/emanuele/TTR/greta_test_cutoff_55_ex_3/epsilon_0295_c12_Native2reweight_noN1_gd0/concentration_gradient/make_fibril_2000_13mM_304K_analysis_test/analysis\n",
      "Command line:\n",
      "  gmx_mpi clustsize -f prod_2000-13mM-dt100000.xtc -dt 100000 -s prod_2000-13mM.tpr -mol -hct matrix-dt100000.dat -nice 0 -cut 0.4\n",
      "\n",
      "\n",
      "Back Off! I just backed up nclust.xvg to ./#nclust.xvg.1#\n",
      "\n",
      "Back Off! I just backed up avclust.xvg to ./#avclust.xvg.1#\n",
      "\n",
      "Back Off! I just backed up maxclust.xvg to ./#maxclust.xvg.1#\n",
      "\n",
      "Back Off! I just backed up temp.xvg to ./#temp.xvg.1#\n",
      "Reading frame       0 time    0.000   Reading file prod_2000-13mM.tpr, VERSION 2020.3-MODIFIED (single precision)\n",
      "Reading file prod_2000-13mM.tpr, VERSION 2020.3-MODIFIED (single precision)\n",
      "Last frame         17 time 1700000.000   \n",
      "Total number of atoms in clusters =  1993\n",
      "cmid: 1, cmax: 1819, max_size: 1923\n",
      "                     1 1 1 1 1 1 1 1 1 1 2 2 2 2 2 2 2 2 2 3 3 3 3 3 3 3 3 3 3 4 4 4 4 4 4 4 4 4 5 5 5 5 5 5 5 5 5 5 6 6 6 6 6 6 6 6 6 6 7 7 7 7 7 7 7 7 7 8 8 8 8 8 8 8 8 8 8 9 9 9 9 9 9 9 9 910cmid: 2, cmax: 1923, max_size: 1923\n",
      "                     1 1 1 1 1 1 1 1 1 1 2 2 2 2 2 2 2 2 2 3 3 3 3 3 3 3 3 3 3 4 4 4 4 4 4 4 4 4 5 5 5 5 5 5 5 5 5 5 6 6 6 6 6 6 6 6 6 6 7 7 7 7 7 7 7 7 7 8 8 8 8 8 8 8 8 8 8 9 9 9 9 9 9 9 9 910\n",
      "GROMACS reminds you: \"All approaches at a higher level are suspect until confirmed at the molecular level.\" (Francis Crick)\n",
      "\n",
      "1850.5538530349731\n"
     ]
    }
   ],
   "source": [
    "import time\n",
    "start_time = time.time()\n",
    "directory = f'/media/data/emanuele/TTR/greta_test_cutoff_55_ex_3/epsilon_0295_harp2_c12_Native2reweight_noN1_gd0/concentration_gradient/make_fibril_{nchains}_{concentration}mM_{temperature}K_{replica_number}'\n",
    "%cd $directory\n",
    "%cd analysis/\n",
    "string = f'gmx_mpi clustsize -f prod_{nchains}-{concentration}mM-dt{cdt}.xtc -dt {cdt} -s prod_{nchains}-{concentration}mM_{replica_number}.tpr -mol -hct matrix-dt{cdt}.dat -nice 0 -cut 0.4'\n",
    "!{string}\n",
    "\n",
    "print(time.time() - start_time)"
   ]
  },
  {
   "cell_type": "code",
   "execution_count": 5,
   "metadata": {},
   "outputs": [
    {
     "output_type": "stream",
     "name": "stdout",
     "text": [
      "Invalid MIT-MAGIC-COOKIE-1 key                :-) GROMACS - gmx editconf, 2020.3-MODIFIED (-:\n",
      "\n",
      "                            GROMACS is written by:\n",
      "     Emile Apol      Rossen Apostolov      Paul Bauer     Herman J.C. Berendsen\n",
      "    Par Bjelkmar      Christian Blau   Viacheslav Bolnykh     Kevin Boyd    \n",
      " Aldert van Buuren   Rudi van Drunen     Anton Feenstra       Alan Gray     \n",
      "  Gerrit Groenhof     Anca Hamuraru    Vincent Hindriksen  M. Eric Irrgang  \n",
      "  Aleksei Iupinov   Christoph Junghans     Joe Jordan     Dimitrios Karkoulis\n",
      "    Peter Kasson        Jiri Kraus      Carsten Kutzner      Per Larsson    \n",
      "  Justin A. Lemkul    Viveca Lindahl    Magnus Lundborg     Erik Marklund   \n",
      "    Pascal Merz     Pieter Meulenhoff    Teemu Murtola       Szilard Pall   \n",
      "    Sander Pronk      Roland Schulz      Michael Shirts    Alexey Shvetsov  \n",
      "   Alfons Sijbers     Peter Tieleman      Jon Vincent      Teemu Virolainen \n",
      " Christian Wennberg    Maarten Wolf      Artem Zhmurov   \n",
      "                           and the project leaders:\n",
      "        Mark Abraham, Berk Hess, Erik Lindahl, and David van der Spoel\n",
      "\n",
      "Copyright (c) 1991-2000, University of Groningen, The Netherlands.\n",
      "Copyright (c) 2001-2019, The GROMACS development team at\n",
      "Uppsala University, Stockholm University and\n",
      "the Royal Institute of Technology, Sweden.\n",
      "check out http://www.gromacs.org for more information.\n",
      "\n",
      "GROMACS is free software; you can redistribute it and/or modify it\n",
      "under the terms of the GNU Lesser General Public License\n",
      "as published by the Free Software Foundation; either version 2.1\n",
      "of the License, or (at your option) any later version.\n",
      "\n",
      "GROMACS:      gmx editconf, version 2020.3-MODIFIED\n",
      "Executable:   /opt/gromacs-2020.3/bin/gmx_mpi\n",
      "Data prefix:  /opt/gromacs-2020.3\n",
      "Working dir:  /home/emanuele/MAGROS/Fibril_analysis\n",
      "Command line:\n",
      "  gmx_mpi editconf -f prod_2000-13mM.tpr -o fibril.pdb\n",
      "\n",
      "\n",
      "-------------------------------------------------------\n",
      "Program:     gmx editconf, version 2020.3-MODIFIED\n",
      "Source file: src/gromacs/commandline/cmdlineparser.cpp (line 275)\n",
      "Function:    void gmx::CommandLineParser::parse(int*, char**)\n",
      "\n",
      "Error in user input:\n",
      "Invalid command-line options\n",
      "  In command-line option -f\n",
      "    File 'prod_2000-13mM.tpr' does not exist or is not accessible.\n",
      "    The file could not be opened.\n",
      "      Reason: No such file or directory\n",
      "      (call to fopen() returned error code 2)\n",
      "\n",
      "For more information and tips for troubleshooting, please check the GROMACS\n",
      "website at http://www.gromacs.org/Documentation/Errors\n",
      "-------------------------------------------------------\n",
      "--------------------------------------------------------------------------\n",
      "MPI_ABORT was invoked on rank 0 in communicator MPI_COMM_WORLD\n",
      "with errorcode 1.\n",
      "\n",
      "NOTE: invoking MPI_ABORT causes Open MPI to kill all MPI processes.\n",
      "You may or may not see output from other processes, depending on\n",
      "exactly when Open MPI kills them.\n",
      "--------------------------------------------------------------------------\n"
     ]
    }
   ],
   "source": [
    "string = f'gmx_mpi editconf -f prod_{nchains}-{concentration}mM.tpr -o fibril.pdb'\n",
    "#string = f'gmx_mpi editconf -f prod_{nchains}-{concentration}mM_{replica_number}.tpr -o fibril.pdb'\n",
    "!{string}"
   ]
  },
  {
   "cell_type": "code",
   "execution_count": 4,
   "metadata": {},
   "outputs": [
    {
     "output_type": "error",
     "ename": "FileNotFoundError",
     "evalue": "[Errno 2] No such file or directory: 'fibril.pdb'",
     "traceback": [
      "\u001b[0;31m---------------------------------------------------------------------------\u001b[0m",
      "\u001b[0;31mFileNotFoundError\u001b[0m                         Traceback (most recent call last)",
      "\u001b[0;32m<ipython-input-4-41c57d0593c0>\u001b[0m in \u001b[0;36m<module>\u001b[0;34m\u001b[0m\n\u001b[0;32m----> 1\u001b[0;31m \u001b[0mrename_chains\u001b[0m\u001b[0;34m(\u001b[0m\u001b[0;34m'fibril.pdb'\u001b[0m\u001b[0;34m)\u001b[0m\u001b[0;34m\u001b[0m\u001b[0;34m\u001b[0m\u001b[0m\n\u001b[0m",
      "\u001b[0;32m<ipython-input-3-4325280cd172>\u001b[0m in \u001b[0;36mrename_chains\u001b[0;34m(filename)\u001b[0m\n\u001b[1;32m      1\u001b[0m \u001b[0;32mdef\u001b[0m \u001b[0mrename_chains\u001b[0m\u001b[0;34m(\u001b[0m\u001b[0mfilename\u001b[0m\u001b[0;34m)\u001b[0m\u001b[0;34m:\u001b[0m\u001b[0;34m\u001b[0m\u001b[0;34m\u001b[0m\u001b[0m\n\u001b[0;32m----> 2\u001b[0;31m     \u001b[0;32mwith\u001b[0m \u001b[0mopen\u001b[0m\u001b[0;34m(\u001b[0m\u001b[0;34m'fibril.pdb'\u001b[0m\u001b[0;34m,\u001b[0m \u001b[0;34m'r+'\u001b[0m\u001b[0;34m)\u001b[0m \u001b[0;32mas\u001b[0m \u001b[0mf\u001b[0m\u001b[0;34m:\u001b[0m\u001b[0;34m\u001b[0m\u001b[0;34m\u001b[0m\u001b[0m\n\u001b[0m\u001b[1;32m      3\u001b[0m         \u001b[0;31m# Read the pdb file\u001b[0m\u001b[0;34m\u001b[0m\u001b[0;34m\u001b[0m\u001b[0;34m\u001b[0m\u001b[0m\n\u001b[1;32m      4\u001b[0m         \u001b[0mlines\u001b[0m \u001b[0;34m=\u001b[0m \u001b[0mf\u001b[0m\u001b[0;34m.\u001b[0m\u001b[0mreadlines\u001b[0m\u001b[0;34m(\u001b[0m\u001b[0;34m)\u001b[0m\u001b[0;34m\u001b[0m\u001b[0;34m\u001b[0m\u001b[0m\n\u001b[1;32m      5\u001b[0m         \u001b[0;31m# Change the column number 22 which is the chain id in the pdb\u001b[0m\u001b[0;34m\u001b[0m\u001b[0;34m\u001b[0m\u001b[0;34m\u001b[0m\u001b[0m\n",
      "\u001b[0;31mFileNotFoundError\u001b[0m: [Errno 2] No such file or directory: 'fibril.pdb'"
     ]
    }
   ],
   "source": [
    "rename_chains('fibril.pdb')"
   ]
  },
  {
   "cell_type": "code",
   "execution_count": null,
   "metadata": {},
   "outputs": [],
   "source": []
  }
 ]
}