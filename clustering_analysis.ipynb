{
 "cells": [
  {
   "cell_type": "code",
   "execution_count": 77,
   "metadata": {},
   "outputs": [
    {
     "name": "stdout",
     "output_type": "stream",
     "text": [
      "20\n"
     ]
    }
   ],
   "source": [
    "import os\n",
    "os.environ[\"OMP_NUM_THREADS\"] = \"20\"\n",
    "print(os.environ['OMP_NUM_THREADS'])\n",
    "\n",
    "from __future__ import print_function\n",
    "%matplotlib inline\n",
    "import mdtraj as md\n",
    "import numpy as np\n",
    "import matplotlib.pyplot as plt\n",
    "import scipy.cluster.hierarchy\n",
    "from scipy.spatial.distance import squareform\n",
    "import pandas as pd\n",
    "import plotly.graph_objects as go\n",
    "from plotly.subplots import make_subplots \n",
    "import nglview as nv\n"
   ]
  },
  {
   "cell_type": "markdown",
   "metadata": {},
   "source": [
    "# Functions"
   ]
  },
  {
   "cell_type": "code",
   "execution_count": 78,
   "metadata": {},
   "outputs": [],
   "source": [
    "#def make_frames_comparison(traj, clusters_dict, markov_nframes):\n",
    "#    contact_bycluster_dict = {}\n",
    "#\n",
    "#\n",
    "#    for cluster, frames in clusters_dict.items():\n",
    "#        markov_frames = frames[frames <= markov_nframes]\n",
    "#        me_frames = frames[frames > markov_nframes]\n",
    "#\n",
    "#        markov_contact_map = md.compute_contacts(traj[markov_frames], scheme='closest')\n",
    "#\n",
    "#        markov_pairs_count = pd.DataFrame(columns=['markov_ai', 'markov_aj', 'markov_average_distance', 'markov_probability'])\n",
    "#        markov_pairs_count['markov_ai'] = markov_contact_map[1][:,0]\n",
    "#        markov_pairs_count['markov_aj'] = markov_contact_map[1][:,1]\n",
    "#        markov_pairs_count['markov_average_distance'] = (markov_contact_map[0] < 0.55).mean(axis=0)\n",
    "#        markov_pairs_count['markov_probability'] = ((markov_contact_map[0] < 0.55).sum(axis=0)/len(markov_frames)) # Axis 0 sulle colonne (ho 780 elementi = al numero dei pairs)\n",
    "#        markov_pairs_count = markov_pairs_count[markov_pairs_count.markov_average_distance != 0]\n",
    "#\n",
    "#        me_contact_map = md.compute_contacts(traj[me_frames], scheme='closest')\n",
    "#        me_pairs_count = pd.DataFrame(columns=['me_ai', 'me_aj', 'me_average_distance', 'me_probability'])\n",
    "#        me_pairs_count['me_ai'] = me_contact_map[1][:,0]\n",
    "#        me_pairs_count['me_aj'] = me_contact_map[1][:,1]\n",
    "#        me_pairs_count['me_average_distance'] = (me_contact_map[0] < 0.55).mean(axis=0)\n",
    "#        me_pairs_count['me_probability'] = ((me_contact_map[0] < 0.55).sum(axis=0)/len(me_frames)) # Axis 0 sulle colonne (ho 780 elementi = al numero dei pairs)\n",
    "#        me_pairs_count = me_pairs_count[me_pairs_count.me_average_distance != 0]\n",
    "#\n",
    "#        pairs_count = pd.concat([markov_pairs_count, me_pairs_count], axis=1)\n",
    "#        \n",
    "#        if (pairs_count['markov_ai'] == pairs_count['me_ai']) and (pairs_count['markov_aj'] == pairs_count['me_aj']):\n",
    "#            pairs_count = pairs_count.rename(columns={'markov_ai':'ai', 'markov_aj':'aj'})\n",
    "#            pairs_count.drop(columns=['me_ai', 'me_aj'], inplace=True)\n",
    "#\n",
    "#        contact_bycluster_dict[cluster] = pairs_count\n",
    "#\n",
    "#\n",
    "#    return contact_bycluster_dict"
   ]
  },
  {
   "cell_type": "code",
   "execution_count": 79,
   "metadata": {},
   "outputs": [],
   "source": [
    "#rmsd_matrix = np.empty((traj.n_frames, traj.n_frames))\n",
    "#for i in range(traj.n_frames):\n",
    "#    rmsd_matrix[i] = md.rmsd(traj, traj, i, atom_indices=backbone)\n",
    "#print('Max pairwise rmsd: %f nm' % np.max(rmsd_matrix))"
   ]
  },
  {
   "cell_type": "code",
   "execution_count": 80,
   "metadata": {},
   "outputs": [],
   "source": [
    "def clustering(rmsd_matrix, rmsd_cutoff:float, frame_list):\n",
    "    clust_counter = 1\n",
    "    frame_clust_dict = {}\n",
    "\n",
    "    while rmsd_matrix.size != 0:\n",
    "        #treshold = (rmsd_matrix < rmsd_cutoff).sum(axis=0)\n",
    "        #print(f'Cluster #{clust_counter} has {treshold.max()} similar structures')\n",
    "        max_clust = np.where((rmsd_matrix < rmsd_cutoff).sum(axis=0)==(rmsd_matrix < rmsd_cutoff).sum(axis=0).max())[0][0]\n",
    "        #print(f'index:{max_clust}')\n",
    "\n",
    "        frames_to_keep = frame_list[rmsd_matrix[max_clust] < rmsd_cutoff]\n",
    "        indices_to_keep = np.where(rmsd_matrix[max_clust] < rmsd_cutoff)\n",
    "\n",
    "        frame_clust_dict[clust_counter] = frames_to_keep\n",
    "        \n",
    "        rmsd_matrix = np.delete(rmsd_matrix, indices_to_keep, axis=0)\n",
    "        rmsd_matrix = np.delete(rmsd_matrix, indices_to_keep, axis=1)\n",
    "        frame_list = np.delete(frame_list, indices_to_keep)\n",
    "\n",
    "        clust_counter += 1\n",
    "\n",
    "\n",
    "    return frame_clust_dict\n"
   ]
  },
  {
   "cell_type": "code",
   "execution_count": 81,
   "metadata": {},
   "outputs": [],
   "source": [
    "def make_frames_comparison(traj, clusters_dict, markov_nframes, me_traj_nframes, full_traj_nframes):\n",
    "    frames_comparison_dict = {}\n",
    "\n",
    "    for cluster, frames in clusters_dict.items():\n",
    "        markov_frames = frames[frames <= markov_nframes]\n",
    "        me_frames = frames[frames > markov_nframes]\n",
    "\n",
    "        #markov_trace = go.Histogram(y=[(len(markov_frames)/markov_nframes)*full_traj_nframes])\n",
    "        #me_trace = go.Histogram(y=[(len(me_frames)/me_traj_nframes)*full_traj_nframes])\n",
    "        #frames_comparison_dict[cluster] = (markov_trace, me_trace)\n",
    "        frames_comparison_dict[cluster] = ((len(markov_frames)/markov_nframes)*full_traj_nframes, (len(me_frames)/me_traj_nframes)*full_traj_nframes)\n",
    "\n",
    "    return frames_comparison_dict"
   ]
  },
  {
   "cell_type": "code",
   "execution_count": 82,
   "metadata": {},
   "outputs": [],
   "source": [
    "def clustering_wrapper(multiego_structure:str, multiego_trajectory:str, cutoff:float):\n",
    "    markov_traj = md.load('/home/emanuele/ABeta/markov/mdtraj_red_noh.xtc', top='/home/emanuele/ABeta/markov/mdtraj_reduced-noh.gro')\n",
    "    me_traj = md.load(multiego_trajectory, top=multiego_structure)\n",
    "\n",
    "\n",
    "\n",
    "    #backbone_markov_traj = markov_traj.atom_slice(markov_traj.topology.select('backbone'))\n",
    "    #backbone_me_traj = me_traj.atom_slice(me_traj.topology.select('backbone'))\n",
    "    #full_traj = md.join([backbone_markov_traj, backbone_me_traj], check_topology=True, discard_overlapping_frames=False)\n",
    "\n",
    "\n",
    "\n",
    "    full_traj = md.join([markov_traj, me_traj], check_topology=True, discard_overlapping_frames=False)\n",
    "\n",
    "    full_rmsd_traj = full_traj.atom_slice(full_traj.topology.select('backbone'))\n",
    "\n",
    "    #markov_nframes = backbone_markov_traj.n_frames\n",
    "    #me_traj_nframes = backbone_me_traj.n_frames\n",
    "    #full_traj_nframes = full_traj.n_frames\n",
    "\n",
    "    markov_nframes = markov_traj.n_frames\n",
    "    me_traj_nframes = me_traj.n_frames\n",
    "    full_traj_nframes = full_traj.n_frames\n",
    "\n",
    "    frame_list = np.arange(0, full_traj_nframes)\n",
    "\n",
    "    print('Making the RMSD matrix')\n",
    "\n",
    "    rmsd_matrix = np.empty((full_traj_nframes, full_traj_nframes))\n",
    "    for i in range(full_traj_nframes):\n",
    "        #rmsd_matrix[i] = md.rmsd(full_traj, full_traj, i)\n",
    "        rmsd_matrix[i] = md.rmsd(full_rmsd_traj, full_rmsd_traj, i)#, atom_indices=full_trajnframes.topology.select('backbone'))\n",
    "\n",
    "    print('Performing clustering')\n",
    "    clusters_dict = clustering(rmsd_matrix, cutoff, frame_list)\n",
    "\n",
    "\n",
    "\n",
    "    print('Saving the trajectories')\n",
    "    clust_size_dict, clust_trajectories = {}, {}\n",
    "    for clust, frames in clusters_dict.items():\n",
    "        clust_size_dict[clust] = len(frames)\n",
    "        clust_trajectories[clust] = full_traj[frames]\n",
    "        traj_tosave = full_traj[frames]\n",
    "        traj_tosave.save(f'clusters_trajectories/clust{clust}.xtc')\n",
    "   \n",
    "    frame_percentage(markov_nframes, me_traj_nframes, full_traj_nframes, clust_size_dict)\n",
    "\n",
    "    frames_comparison_dict = make_frames_comparison(full_traj, clusters_dict, markov_nframes, me_traj_nframes, full_traj_nframes)\n",
    "    #print(frames_comparison_dict)\n",
    "    return frames_comparison_dict, clust_size_dict, clust_trajectories\n"
   ]
  },
  {
   "cell_type": "markdown",
   "metadata": {},
   "source": [
    "# Plots"
   ]
  },
  {
   "cell_type": "code",
   "execution_count": 83,
   "metadata": {},
   "outputs": [],
   "source": [
    "def frame_percentage(markov_nframes, me_traj_nframes, full_traj_nframes, clust_size_dict):\n",
    "    print(f'Markov frames = {markov_nframes}')\n",
    "    print(f'Multi-eGO frames = {me_traj_nframes}')\n",
    "    print(f'Merged frames = {full_traj_nframes}')\n",
    "\n",
    "    print(f'The 60% of frames are {(60*full_traj_nframes)/100}')\n",
    "    print(f'The 70% of frames are {(70*full_traj_nframes)/100}')\n",
    "    print(f'The 80% of frames are {(80*full_traj_nframes)/100}')\n",
    "    print(f'The 90% of frames are {(90*full_traj_nframes)/100}')\n",
    "\n",
    "    first_10frames = sum({value for key, value in clust_size_dict.items() if key<11})\n",
    "    first_15frames = sum({value for key, value in clust_size_dict.items() if key<16})\n",
    "\n",
    "    print(f'The first 10 clusters includes {first_10frames} as the {np.around((first_10frames*100)/full_traj_nframes, decimals=2)}% of the total')\n",
    "    print(f'The first 15 clusters includes {first_15frames} as the {np.around((first_15frames*100)/full_traj_nframes, decimals=2)}% of the total')\n"
   ]
  },
  {
   "cell_type": "code",
   "execution_count": 84,
   "metadata": {},
   "outputs": [
    {
     "name": "stdout",
     "output_type": "stream",
     "text": [
      "/home/emanuele/ABeta/greta_co5.5_ex2/epsilon_310/monomer_test/native_278K\n",
      "mkdir: cannot create directory ‘clusters_trajectories’: File exists\n",
      "Making the RMSD matrix\n",
      "Performing clustering\n",
      "Saving the trajectories\n",
      "Markov frames = 3136\n",
      "Multi-eGO frames = 3382\n",
      "Merged frames = 6518\n",
      "The 60% of frames are 3910.8\n",
      "The 70% of frames are 4562.6\n",
      "The 80% of frames are 5214.4\n",
      "The 90% of frames are 5866.2\n",
      "The first 10 clusters includes 5139 as the 78.84% of the total\n",
      "The first 15 clusters includes 5434 as the 83.37% of the total\n"
     ]
    }
   ],
   "source": [
    "greta_dir = '/home/emanuele/ABeta/greta_co5.5_ex2/epsilon_310/monomer_test/native_278K'\n",
    "greta_310_structure = f'{greta_dir}/box_abeta_greta.gro'\n",
    "greta_310_trajectory =f'{greta_dir}/md_traj_red.xtc'\n",
    "\n",
    "%cd {greta_dir}\n",
    "%mkdir {'clusters_trajectories'}\n",
    "\n",
    "greta310_probability_dict, greta310_clustsize, clust_trajectories_dict = clustering_wrapper(greta_310_structure, greta_310_trajectory, 0.78)\n"
   ]
  },
  {
   "cell_type": "code",
   "execution_count": 104,
   "metadata": {},
   "outputs": [
    {
     "data": {
      "application/vnd.plotly.v1+json": {
       "config": {
        "plotlyServerURL": "https://plot.ly"
       },
       "data": [
        {
         "name": "Markov Frames",
         "type": "bar",
         "x": [
          1,
          2,
          3,
          4,
          5,
          6,
          7,
          8,
          9,
          10
         ],
         "y": [
          2059.737882653061,
          1093.2614795918366,
          409.453443877551,
          527.9247448979592,
          444.7869897959184,
          201.60905612244898,
          251.49170918367346,
          286.82525510204084,
          133.0204081632653,
          110.1575255102041
         ]
        },
        {
         "name": "Multi-eGO Frames",
         "type": "bar",
         "x": [
          1,
          2,
          3,
          4,
          5,
          6,
          7,
          8,
          9,
          10
         ],
         "y": [
          2378.2412773506803,
          701.5233589591958,
          593.5966883500887,
          273.6712004730928,
          252.47131874630398,
          202.3625073920757,
          131.05381431105855,
          67.4541691306919,
          84.79952690715554,
          102.14488468361917
         ]
        }
       ],
       "layout": {
        "height": 800,
        "plot_bgcolor": "white",
        "template": {
         "data": {
          "bar": [
           {
            "error_x": {
             "color": "#2a3f5f"
            },
            "error_y": {
             "color": "#2a3f5f"
            },
            "marker": {
             "line": {
              "color": "#E5ECF6",
              "width": 0.5
             },
             "pattern": {
              "fillmode": "overlay",
              "size": 10,
              "solidity": 0.2
             }
            },
            "type": "bar"
           }
          ],
          "barpolar": [
           {
            "marker": {
             "line": {
              "color": "#E5ECF6",
              "width": 0.5
             },
             "pattern": {
              "fillmode": "overlay",
              "size": 10,
              "solidity": 0.2
             }
            },
            "type": "barpolar"
           }
          ],
          "carpet": [
           {
            "aaxis": {
             "endlinecolor": "#2a3f5f",
             "gridcolor": "white",
             "linecolor": "white",
             "minorgridcolor": "white",
             "startlinecolor": "#2a3f5f"
            },
            "baxis": {
             "endlinecolor": "#2a3f5f",
             "gridcolor": "white",
             "linecolor": "white",
             "minorgridcolor": "white",
             "startlinecolor": "#2a3f5f"
            },
            "type": "carpet"
           }
          ],
          "choropleth": [
           {
            "colorbar": {
             "outlinewidth": 0,
             "ticks": ""
            },
            "type": "choropleth"
           }
          ],
          "contour": [
           {
            "colorbar": {
             "outlinewidth": 0,
             "ticks": ""
            },
            "colorscale": [
             [
              0,
              "#0d0887"
             ],
             [
              0.1111111111111111,
              "#46039f"
             ],
             [
              0.2222222222222222,
              "#7201a8"
             ],
             [
              0.3333333333333333,
              "#9c179e"
             ],
             [
              0.4444444444444444,
              "#bd3786"
             ],
             [
              0.5555555555555556,
              "#d8576b"
             ],
             [
              0.6666666666666666,
              "#ed7953"
             ],
             [
              0.7777777777777778,
              "#fb9f3a"
             ],
             [
              0.8888888888888888,
              "#fdca26"
             ],
             [
              1,
              "#f0f921"
             ]
            ],
            "type": "contour"
           }
          ],
          "contourcarpet": [
           {
            "colorbar": {
             "outlinewidth": 0,
             "ticks": ""
            },
            "type": "contourcarpet"
           }
          ],
          "heatmap": [
           {
            "colorbar": {
             "outlinewidth": 0,
             "ticks": ""
            },
            "colorscale": [
             [
              0,
              "#0d0887"
             ],
             [
              0.1111111111111111,
              "#46039f"
             ],
             [
              0.2222222222222222,
              "#7201a8"
             ],
             [
              0.3333333333333333,
              "#9c179e"
             ],
             [
              0.4444444444444444,
              "#bd3786"
             ],
             [
              0.5555555555555556,
              "#d8576b"
             ],
             [
              0.6666666666666666,
              "#ed7953"
             ],
             [
              0.7777777777777778,
              "#fb9f3a"
             ],
             [
              0.8888888888888888,
              "#fdca26"
             ],
             [
              1,
              "#f0f921"
             ]
            ],
            "type": "heatmap"
           }
          ],
          "heatmapgl": [
           {
            "colorbar": {
             "outlinewidth": 0,
             "ticks": ""
            },
            "colorscale": [
             [
              0,
              "#0d0887"
             ],
             [
              0.1111111111111111,
              "#46039f"
             ],
             [
              0.2222222222222222,
              "#7201a8"
             ],
             [
              0.3333333333333333,
              "#9c179e"
             ],
             [
              0.4444444444444444,
              "#bd3786"
             ],
             [
              0.5555555555555556,
              "#d8576b"
             ],
             [
              0.6666666666666666,
              "#ed7953"
             ],
             [
              0.7777777777777778,
              "#fb9f3a"
             ],
             [
              0.8888888888888888,
              "#fdca26"
             ],
             [
              1,
              "#f0f921"
             ]
            ],
            "type": "heatmapgl"
           }
          ],
          "histogram": [
           {
            "marker": {
             "pattern": {
              "fillmode": "overlay",
              "size": 10,
              "solidity": 0.2
             }
            },
            "type": "histogram"
           }
          ],
          "histogram2d": [
           {
            "colorbar": {
             "outlinewidth": 0,
             "ticks": ""
            },
            "colorscale": [
             [
              0,
              "#0d0887"
             ],
             [
              0.1111111111111111,
              "#46039f"
             ],
             [
              0.2222222222222222,
              "#7201a8"
             ],
             [
              0.3333333333333333,
              "#9c179e"
             ],
             [
              0.4444444444444444,
              "#bd3786"
             ],
             [
              0.5555555555555556,
              "#d8576b"
             ],
             [
              0.6666666666666666,
              "#ed7953"
             ],
             [
              0.7777777777777778,
              "#fb9f3a"
             ],
             [
              0.8888888888888888,
              "#fdca26"
             ],
             [
              1,
              "#f0f921"
             ]
            ],
            "type": "histogram2d"
           }
          ],
          "histogram2dcontour": [
           {
            "colorbar": {
             "outlinewidth": 0,
             "ticks": ""
            },
            "colorscale": [
             [
              0,
              "#0d0887"
             ],
             [
              0.1111111111111111,
              "#46039f"
             ],
             [
              0.2222222222222222,
              "#7201a8"
             ],
             [
              0.3333333333333333,
              "#9c179e"
             ],
             [
              0.4444444444444444,
              "#bd3786"
             ],
             [
              0.5555555555555556,
              "#d8576b"
             ],
             [
              0.6666666666666666,
              "#ed7953"
             ],
             [
              0.7777777777777778,
              "#fb9f3a"
             ],
             [
              0.8888888888888888,
              "#fdca26"
             ],
             [
              1,
              "#f0f921"
             ]
            ],
            "type": "histogram2dcontour"
           }
          ],
          "mesh3d": [
           {
            "colorbar": {
             "outlinewidth": 0,
             "ticks": ""
            },
            "type": "mesh3d"
           }
          ],
          "parcoords": [
           {
            "line": {
             "colorbar": {
              "outlinewidth": 0,
              "ticks": ""
             }
            },
            "type": "parcoords"
           }
          ],
          "pie": [
           {
            "automargin": true,
            "type": "pie"
           }
          ],
          "scatter": [
           {
            "marker": {
             "colorbar": {
              "outlinewidth": 0,
              "ticks": ""
             }
            },
            "type": "scatter"
           }
          ],
          "scatter3d": [
           {
            "line": {
             "colorbar": {
              "outlinewidth": 0,
              "ticks": ""
             }
            },
            "marker": {
             "colorbar": {
              "outlinewidth": 0,
              "ticks": ""
             }
            },
            "type": "scatter3d"
           }
          ],
          "scattercarpet": [
           {
            "marker": {
             "colorbar": {
              "outlinewidth": 0,
              "ticks": ""
             }
            },
            "type": "scattercarpet"
           }
          ],
          "scattergeo": [
           {
            "marker": {
             "colorbar": {
              "outlinewidth": 0,
              "ticks": ""
             }
            },
            "type": "scattergeo"
           }
          ],
          "scattergl": [
           {
            "marker": {
             "colorbar": {
              "outlinewidth": 0,
              "ticks": ""
             }
            },
            "type": "scattergl"
           }
          ],
          "scattermapbox": [
           {
            "marker": {
             "colorbar": {
              "outlinewidth": 0,
              "ticks": ""
             }
            },
            "type": "scattermapbox"
           }
          ],
          "scatterpolar": [
           {
            "marker": {
             "colorbar": {
              "outlinewidth": 0,
              "ticks": ""
             }
            },
            "type": "scatterpolar"
           }
          ],
          "scatterpolargl": [
           {
            "marker": {
             "colorbar": {
              "outlinewidth": 0,
              "ticks": ""
             }
            },
            "type": "scatterpolargl"
           }
          ],
          "scatterternary": [
           {
            "marker": {
             "colorbar": {
              "outlinewidth": 0,
              "ticks": ""
             }
            },
            "type": "scatterternary"
           }
          ],
          "surface": [
           {
            "colorbar": {
             "outlinewidth": 0,
             "ticks": ""
            },
            "colorscale": [
             [
              0,
              "#0d0887"
             ],
             [
              0.1111111111111111,
              "#46039f"
             ],
             [
              0.2222222222222222,
              "#7201a8"
             ],
             [
              0.3333333333333333,
              "#9c179e"
             ],
             [
              0.4444444444444444,
              "#bd3786"
             ],
             [
              0.5555555555555556,
              "#d8576b"
             ],
             [
              0.6666666666666666,
              "#ed7953"
             ],
             [
              0.7777777777777778,
              "#fb9f3a"
             ],
             [
              0.8888888888888888,
              "#fdca26"
             ],
             [
              1,
              "#f0f921"
             ]
            ],
            "type": "surface"
           }
          ],
          "table": [
           {
            "cells": {
             "fill": {
              "color": "#EBF0F8"
             },
             "line": {
              "color": "white"
             }
            },
            "header": {
             "fill": {
              "color": "#C8D4E3"
             },
             "line": {
              "color": "white"
             }
            },
            "type": "table"
           }
          ]
         },
         "layout": {
          "annotationdefaults": {
           "arrowcolor": "#2a3f5f",
           "arrowhead": 0,
           "arrowwidth": 1
          },
          "autotypenumbers": "strict",
          "coloraxis": {
           "colorbar": {
            "outlinewidth": 0,
            "ticks": ""
           }
          },
          "colorscale": {
           "diverging": [
            [
             0,
             "#8e0152"
            ],
            [
             0.1,
             "#c51b7d"
            ],
            [
             0.2,
             "#de77ae"
            ],
            [
             0.3,
             "#f1b6da"
            ],
            [
             0.4,
             "#fde0ef"
            ],
            [
             0.5,
             "#f7f7f7"
            ],
            [
             0.6,
             "#e6f5d0"
            ],
            [
             0.7,
             "#b8e186"
            ],
            [
             0.8,
             "#7fbc41"
            ],
            [
             0.9,
             "#4d9221"
            ],
            [
             1,
             "#276419"
            ]
           ],
           "sequential": [
            [
             0,
             "#0d0887"
            ],
            [
             0.1111111111111111,
             "#46039f"
            ],
            [
             0.2222222222222222,
             "#7201a8"
            ],
            [
             0.3333333333333333,
             "#9c179e"
            ],
            [
             0.4444444444444444,
             "#bd3786"
            ],
            [
             0.5555555555555556,
             "#d8576b"
            ],
            [
             0.6666666666666666,
             "#ed7953"
            ],
            [
             0.7777777777777778,
             "#fb9f3a"
            ],
            [
             0.8888888888888888,
             "#fdca26"
            ],
            [
             1,
             "#f0f921"
            ]
           ],
           "sequentialminus": [
            [
             0,
             "#0d0887"
            ],
            [
             0.1111111111111111,
             "#46039f"
            ],
            [
             0.2222222222222222,
             "#7201a8"
            ],
            [
             0.3333333333333333,
             "#9c179e"
            ],
            [
             0.4444444444444444,
             "#bd3786"
            ],
            [
             0.5555555555555556,
             "#d8576b"
            ],
            [
             0.6666666666666666,
             "#ed7953"
            ],
            [
             0.7777777777777778,
             "#fb9f3a"
            ],
            [
             0.8888888888888888,
             "#fdca26"
            ],
            [
             1,
             "#f0f921"
            ]
           ]
          },
          "colorway": [
           "#636efa",
           "#EF553B",
           "#00cc96",
           "#ab63fa",
           "#FFA15A",
           "#19d3f3",
           "#FF6692",
           "#B6E880",
           "#FF97FF",
           "#FECB52"
          ],
          "font": {
           "color": "#2a3f5f"
          },
          "geo": {
           "bgcolor": "white",
           "lakecolor": "white",
           "landcolor": "#E5ECF6",
           "showlakes": true,
           "showland": true,
           "subunitcolor": "white"
          },
          "hoverlabel": {
           "align": "left"
          },
          "hovermode": "closest",
          "mapbox": {
           "style": "light"
          },
          "paper_bgcolor": "white",
          "plot_bgcolor": "#E5ECF6",
          "polar": {
           "angularaxis": {
            "gridcolor": "white",
            "linecolor": "white",
            "ticks": ""
           },
           "bgcolor": "#E5ECF6",
           "radialaxis": {
            "gridcolor": "white",
            "linecolor": "white",
            "ticks": ""
           }
          },
          "scene": {
           "xaxis": {
            "backgroundcolor": "#E5ECF6",
            "gridcolor": "white",
            "gridwidth": 2,
            "linecolor": "white",
            "showbackground": true,
            "ticks": "",
            "zerolinecolor": "white"
           },
           "yaxis": {
            "backgroundcolor": "#E5ECF6",
            "gridcolor": "white",
            "gridwidth": 2,
            "linecolor": "white",
            "showbackground": true,
            "ticks": "",
            "zerolinecolor": "white"
           },
           "zaxis": {
            "backgroundcolor": "#E5ECF6",
            "gridcolor": "white",
            "gridwidth": 2,
            "linecolor": "white",
            "showbackground": true,
            "ticks": "",
            "zerolinecolor": "white"
           }
          },
          "shapedefaults": {
           "line": {
            "color": "#2a3f5f"
           }
          },
          "ternary": {
           "aaxis": {
            "gridcolor": "white",
            "linecolor": "white",
            "ticks": ""
           },
           "baxis": {
            "gridcolor": "white",
            "linecolor": "white",
            "ticks": ""
           },
           "bgcolor": "#E5ECF6",
           "caxis": {
            "gridcolor": "white",
            "linecolor": "white",
            "ticks": ""
           }
          },
          "title": {
           "x": 0.05
          },
          "xaxis": {
           "automargin": true,
           "gridcolor": "white",
           "linecolor": "white",
           "ticks": "",
           "title": {
            "standoff": 15
           },
           "zerolinecolor": "white",
           "zerolinewidth": 2
          },
          "yaxis": {
           "automargin": true,
           "gridcolor": "white",
           "linecolor": "white",
           "ticks": "",
           "title": {
            "standoff": 15
           },
           "zerolinecolor": "white",
           "zerolinewidth": 2
          }
         }
        },
        "width": 800
       }
      },
      "text/html": [
       "<div>                            <div id=\"58c76eee-6b6c-4643-a917-787cbb22a70c\" class=\"plotly-graph-div\" style=\"height:800px; width:800px;\"></div>            <script type=\"text/javascript\">                require([\"plotly\"], function(Plotly) {                    window.PLOTLYENV=window.PLOTLYENV || {};                                    if (document.getElementById(\"58c76eee-6b6c-4643-a917-787cbb22a70c\")) {                    Plotly.newPlot(                        \"58c76eee-6b6c-4643-a917-787cbb22a70c\",                        [{\"name\":\"Markov Frames\",\"type\":\"bar\",\"x\":[1,2,3,4,5,6,7,8,9,10],\"y\":[2059.737882653061,1093.2614795918366,409.453443877551,527.9247448979592,444.7869897959184,201.60905612244898,251.49170918367346,286.82525510204084,133.0204081632653,110.1575255102041]},{\"name\":\"Multi-eGO Frames\",\"type\":\"bar\",\"x\":[1,2,3,4,5,6,7,8,9,10],\"y\":[2378.2412773506803,701.5233589591958,593.5966883500887,273.6712004730928,252.47131874630398,202.3625073920757,131.05381431105855,67.4541691306919,84.79952690715554,102.14488468361917]}],                        {\"height\":800,\"plot_bgcolor\":\"white\",\"template\":{\"data\":{\"bar\":[{\"error_x\":{\"color\":\"#2a3f5f\"},\"error_y\":{\"color\":\"#2a3f5f\"},\"marker\":{\"line\":{\"color\":\"#E5ECF6\",\"width\":0.5},\"pattern\":{\"fillmode\":\"overlay\",\"size\":10,\"solidity\":0.2}},\"type\":\"bar\"}],\"barpolar\":[{\"marker\":{\"line\":{\"color\":\"#E5ECF6\",\"width\":0.5},\"pattern\":{\"fillmode\":\"overlay\",\"size\":10,\"solidity\":0.2}},\"type\":\"barpolar\"}],\"carpet\":[{\"aaxis\":{\"endlinecolor\":\"#2a3f5f\",\"gridcolor\":\"white\",\"linecolor\":\"white\",\"minorgridcolor\":\"white\",\"startlinecolor\":\"#2a3f5f\"},\"baxis\":{\"endlinecolor\":\"#2a3f5f\",\"gridcolor\":\"white\",\"linecolor\":\"white\",\"minorgridcolor\":\"white\",\"startlinecolor\":\"#2a3f5f\"},\"type\":\"carpet\"}],\"choropleth\":[{\"colorbar\":{\"outlinewidth\":0,\"ticks\":\"\"},\"type\":\"choropleth\"}],\"contour\":[{\"colorbar\":{\"outlinewidth\":0,\"ticks\":\"\"},\"colorscale\":[[0.0,\"#0d0887\"],[0.1111111111111111,\"#46039f\"],[0.2222222222222222,\"#7201a8\"],[0.3333333333333333,\"#9c179e\"],[0.4444444444444444,\"#bd3786\"],[0.5555555555555556,\"#d8576b\"],[0.6666666666666666,\"#ed7953\"],[0.7777777777777778,\"#fb9f3a\"],[0.8888888888888888,\"#fdca26\"],[1.0,\"#f0f921\"]],\"type\":\"contour\"}],\"contourcarpet\":[{\"colorbar\":{\"outlinewidth\":0,\"ticks\":\"\"},\"type\":\"contourcarpet\"}],\"heatmap\":[{\"colorbar\":{\"outlinewidth\":0,\"ticks\":\"\"},\"colorscale\":[[0.0,\"#0d0887\"],[0.1111111111111111,\"#46039f\"],[0.2222222222222222,\"#7201a8\"],[0.3333333333333333,\"#9c179e\"],[0.4444444444444444,\"#bd3786\"],[0.5555555555555556,\"#d8576b\"],[0.6666666666666666,\"#ed7953\"],[0.7777777777777778,\"#fb9f3a\"],[0.8888888888888888,\"#fdca26\"],[1.0,\"#f0f921\"]],\"type\":\"heatmap\"}],\"heatmapgl\":[{\"colorbar\":{\"outlinewidth\":0,\"ticks\":\"\"},\"colorscale\":[[0.0,\"#0d0887\"],[0.1111111111111111,\"#46039f\"],[0.2222222222222222,\"#7201a8\"],[0.3333333333333333,\"#9c179e\"],[0.4444444444444444,\"#bd3786\"],[0.5555555555555556,\"#d8576b\"],[0.6666666666666666,\"#ed7953\"],[0.7777777777777778,\"#fb9f3a\"],[0.8888888888888888,\"#fdca26\"],[1.0,\"#f0f921\"]],\"type\":\"heatmapgl\"}],\"histogram\":[{\"marker\":{\"pattern\":{\"fillmode\":\"overlay\",\"size\":10,\"solidity\":0.2}},\"type\":\"histogram\"}],\"histogram2d\":[{\"colorbar\":{\"outlinewidth\":0,\"ticks\":\"\"},\"colorscale\":[[0.0,\"#0d0887\"],[0.1111111111111111,\"#46039f\"],[0.2222222222222222,\"#7201a8\"],[0.3333333333333333,\"#9c179e\"],[0.4444444444444444,\"#bd3786\"],[0.5555555555555556,\"#d8576b\"],[0.6666666666666666,\"#ed7953\"],[0.7777777777777778,\"#fb9f3a\"],[0.8888888888888888,\"#fdca26\"],[1.0,\"#f0f921\"]],\"type\":\"histogram2d\"}],\"histogram2dcontour\":[{\"colorbar\":{\"outlinewidth\":0,\"ticks\":\"\"},\"colorscale\":[[0.0,\"#0d0887\"],[0.1111111111111111,\"#46039f\"],[0.2222222222222222,\"#7201a8\"],[0.3333333333333333,\"#9c179e\"],[0.4444444444444444,\"#bd3786\"],[0.5555555555555556,\"#d8576b\"],[0.6666666666666666,\"#ed7953\"],[0.7777777777777778,\"#fb9f3a\"],[0.8888888888888888,\"#fdca26\"],[1.0,\"#f0f921\"]],\"type\":\"histogram2dcontour\"}],\"mesh3d\":[{\"colorbar\":{\"outlinewidth\":0,\"ticks\":\"\"},\"type\":\"mesh3d\"}],\"parcoords\":[{\"line\":{\"colorbar\":{\"outlinewidth\":0,\"ticks\":\"\"}},\"type\":\"parcoords\"}],\"pie\":[{\"automargin\":true,\"type\":\"pie\"}],\"scatter\":[{\"marker\":{\"colorbar\":{\"outlinewidth\":0,\"ticks\":\"\"}},\"type\":\"scatter\"}],\"scatter3d\":[{\"line\":{\"colorbar\":{\"outlinewidth\":0,\"ticks\":\"\"}},\"marker\":{\"colorbar\":{\"outlinewidth\":0,\"ticks\":\"\"}},\"type\":\"scatter3d\"}],\"scattercarpet\":[{\"marker\":{\"colorbar\":{\"outlinewidth\":0,\"ticks\":\"\"}},\"type\":\"scattercarpet\"}],\"scattergeo\":[{\"marker\":{\"colorbar\":{\"outlinewidth\":0,\"ticks\":\"\"}},\"type\":\"scattergeo\"}],\"scattergl\":[{\"marker\":{\"colorbar\":{\"outlinewidth\":0,\"ticks\":\"\"}},\"type\":\"scattergl\"}],\"scattermapbox\":[{\"marker\":{\"colorbar\":{\"outlinewidth\":0,\"ticks\":\"\"}},\"type\":\"scattermapbox\"}],\"scatterpolar\":[{\"marker\":{\"colorbar\":{\"outlinewidth\":0,\"ticks\":\"\"}},\"type\":\"scatterpolar\"}],\"scatterpolargl\":[{\"marker\":{\"colorbar\":{\"outlinewidth\":0,\"ticks\":\"\"}},\"type\":\"scatterpolargl\"}],\"scatterternary\":[{\"marker\":{\"colorbar\":{\"outlinewidth\":0,\"ticks\":\"\"}},\"type\":\"scatterternary\"}],\"surface\":[{\"colorbar\":{\"outlinewidth\":0,\"ticks\":\"\"},\"colorscale\":[[0.0,\"#0d0887\"],[0.1111111111111111,\"#46039f\"],[0.2222222222222222,\"#7201a8\"],[0.3333333333333333,\"#9c179e\"],[0.4444444444444444,\"#bd3786\"],[0.5555555555555556,\"#d8576b\"],[0.6666666666666666,\"#ed7953\"],[0.7777777777777778,\"#fb9f3a\"],[0.8888888888888888,\"#fdca26\"],[1.0,\"#f0f921\"]],\"type\":\"surface\"}],\"table\":[{\"cells\":{\"fill\":{\"color\":\"#EBF0F8\"},\"line\":{\"color\":\"white\"}},\"header\":{\"fill\":{\"color\":\"#C8D4E3\"},\"line\":{\"color\":\"white\"}},\"type\":\"table\"}]},\"layout\":{\"annotationdefaults\":{\"arrowcolor\":\"#2a3f5f\",\"arrowhead\":0,\"arrowwidth\":1},\"autotypenumbers\":\"strict\",\"coloraxis\":{\"colorbar\":{\"outlinewidth\":0,\"ticks\":\"\"}},\"colorscale\":{\"diverging\":[[0,\"#8e0152\"],[0.1,\"#c51b7d\"],[0.2,\"#de77ae\"],[0.3,\"#f1b6da\"],[0.4,\"#fde0ef\"],[0.5,\"#f7f7f7\"],[0.6,\"#e6f5d0\"],[0.7,\"#b8e186\"],[0.8,\"#7fbc41\"],[0.9,\"#4d9221\"],[1,\"#276419\"]],\"sequential\":[[0.0,\"#0d0887\"],[0.1111111111111111,\"#46039f\"],[0.2222222222222222,\"#7201a8\"],[0.3333333333333333,\"#9c179e\"],[0.4444444444444444,\"#bd3786\"],[0.5555555555555556,\"#d8576b\"],[0.6666666666666666,\"#ed7953\"],[0.7777777777777778,\"#fb9f3a\"],[0.8888888888888888,\"#fdca26\"],[1.0,\"#f0f921\"]],\"sequentialminus\":[[0.0,\"#0d0887\"],[0.1111111111111111,\"#46039f\"],[0.2222222222222222,\"#7201a8\"],[0.3333333333333333,\"#9c179e\"],[0.4444444444444444,\"#bd3786\"],[0.5555555555555556,\"#d8576b\"],[0.6666666666666666,\"#ed7953\"],[0.7777777777777778,\"#fb9f3a\"],[0.8888888888888888,\"#fdca26\"],[1.0,\"#f0f921\"]]},\"colorway\":[\"#636efa\",\"#EF553B\",\"#00cc96\",\"#ab63fa\",\"#FFA15A\",\"#19d3f3\",\"#FF6692\",\"#B6E880\",\"#FF97FF\",\"#FECB52\"],\"font\":{\"color\":\"#2a3f5f\"},\"geo\":{\"bgcolor\":\"white\",\"lakecolor\":\"white\",\"landcolor\":\"#E5ECF6\",\"showlakes\":true,\"showland\":true,\"subunitcolor\":\"white\"},\"hoverlabel\":{\"align\":\"left\"},\"hovermode\":\"closest\",\"mapbox\":{\"style\":\"light\"},\"paper_bgcolor\":\"white\",\"plot_bgcolor\":\"#E5ECF6\",\"polar\":{\"angularaxis\":{\"gridcolor\":\"white\",\"linecolor\":\"white\",\"ticks\":\"\"},\"bgcolor\":\"#E5ECF6\",\"radialaxis\":{\"gridcolor\":\"white\",\"linecolor\":\"white\",\"ticks\":\"\"}},\"scene\":{\"xaxis\":{\"backgroundcolor\":\"#E5ECF6\",\"gridcolor\":\"white\",\"gridwidth\":2,\"linecolor\":\"white\",\"showbackground\":true,\"ticks\":\"\",\"zerolinecolor\":\"white\"},\"yaxis\":{\"backgroundcolor\":\"#E5ECF6\",\"gridcolor\":\"white\",\"gridwidth\":2,\"linecolor\":\"white\",\"showbackground\":true,\"ticks\":\"\",\"zerolinecolor\":\"white\"},\"zaxis\":{\"backgroundcolor\":\"#E5ECF6\",\"gridcolor\":\"white\",\"gridwidth\":2,\"linecolor\":\"white\",\"showbackground\":true,\"ticks\":\"\",\"zerolinecolor\":\"white\"}},\"shapedefaults\":{\"line\":{\"color\":\"#2a3f5f\"}},\"ternary\":{\"aaxis\":{\"gridcolor\":\"white\",\"linecolor\":\"white\",\"ticks\":\"\"},\"baxis\":{\"gridcolor\":\"white\",\"linecolor\":\"white\",\"ticks\":\"\"},\"bgcolor\":\"#E5ECF6\",\"caxis\":{\"gridcolor\":\"white\",\"linecolor\":\"white\",\"ticks\":\"\"}},\"title\":{\"x\":0.05},\"xaxis\":{\"automargin\":true,\"gridcolor\":\"white\",\"linecolor\":\"white\",\"ticks\":\"\",\"title\":{\"standoff\":15},\"zerolinecolor\":\"white\",\"zerolinewidth\":2},\"yaxis\":{\"automargin\":true,\"gridcolor\":\"white\",\"linecolor\":\"white\",\"ticks\":\"\",\"title\":{\"standoff\":15},\"zerolinecolor\":\"white\",\"zerolinewidth\":2}}},\"width\":800},                        {\"responsive\": true}                    ).then(function(){\n",
       "                            \n",
       "var gd = document.getElementById('58c76eee-6b6c-4643-a917-787cbb22a70c');\n",
       "var x = new MutationObserver(function (mutations, observer) {{\n",
       "        var display = window.getComputedStyle(gd).display;\n",
       "        if (!display || display === 'none') {{\n",
       "            console.log([gd, 'removed!']);\n",
       "            Plotly.purge(gd);\n",
       "            observer.disconnect();\n",
       "        }}\n",
       "}});\n",
       "\n",
       "// Listen for the removal of the full notebook cells\n",
       "var notebookContainer = gd.closest('#notebook-container');\n",
       "if (notebookContainer) {{\n",
       "    x.observe(notebookContainer, {childList: true});\n",
       "}}\n",
       "\n",
       "// Listen for the clearing of the current output cell\n",
       "var outputEl = gd.closest('.output');\n",
       "if (outputEl) {{\n",
       "    x.observe(outputEl, {childList: true});\n",
       "}}\n",
       "\n",
       "                        })                };                });            </script>        </div>"
      ]
     },
     "metadata": {},
     "output_type": "display_data"
    }
   ],
   "source": [
    "fig = go.Figure()\n",
    "\n",
    "nclust = 11\n",
    "nclust_list = list(range(1, nclust))\n",
    "\n",
    "markov_nclust_norm, me_nclust_norm = [], []\n",
    "for n in range(1, nclust):\n",
    "    markov_nclust_norm.append(greta310_probability_dict[n][0])\n",
    "    me_nclust_norm.append(greta310_probability_dict[n][1])\n",
    "\n",
    "fig.add_trace(go.Bar(x=nclust_list, y=markov_nclust_norm, name='Markov Frames'))\n",
    "fig.add_trace(go.Bar(x=nclust_list, y=me_nclust_norm, name='Multi-eGO Frames'))\n",
    "fig.update_layout(height=800, width=800, plot_bgcolor='white')\n",
    "fig"
   ]
  },
  {
   "cell_type": "code",
   "execution_count": 86,
   "metadata": {},
   "outputs": [],
   "source": [
    "w = nv.show_mdtraj(clust_trajectories_dict[1].superpose(clust_trajectories_dict[1]))"
   ]
  },
  {
   "cell_type": "code",
   "execution_count": 87,
   "metadata": {},
   "outputs": [
    {
     "data": {
      "application/vnd.jupyter.widget-view+json": {
       "model_id": "9313e34f4245461f9fb6457c170637c7",
       "version_major": 2,
       "version_minor": 0
      },
      "text/plain": [
       "NGLWidget(max_frame=2224)"
      ]
     },
     "metadata": {},
     "output_type": "display_data"
    }
   ],
   "source": [
    "w"
   ]
  },
  {
   "cell_type": "code",
   "execution_count": 105,
   "metadata": {},
   "outputs": [],
   "source": [
    "w = nv.show_mdtraj(clust_trajectories_dict[10].superpose(clust_trajectories_dict[10]))"
   ]
  },
  {
   "cell_type": "code",
   "execution_count": 106,
   "metadata": {},
   "outputs": [
    {
     "data": {
      "application/vnd.jupyter.widget-view+json": {
       "model_id": "77912e48ec1348c4b7d209dfbd4ecf5a",
       "version_major": 2,
       "version_minor": 0
      },
      "text/plain": [
       "NGLWidget(max_frame=105)"
      ]
     },
     "metadata": {},
     "output_type": "display_data"
    }
   ],
   "source": [
    "w"
   ]
  },
  {
   "cell_type": "code",
   "execution_count": 108,
   "metadata": {},
   "outputs": [
    {
     "name": "stdout",
     "output_type": "stream",
     "text": [
      "Collecting dash\n",
      "  Downloading dash-2.0.0-py3-none-any.whl (7.3 MB)\n",
      "     |████████████████████████████████| 7.3 MB 13.0 MB/s            \n",
      "\u001b[?25hCollecting dash-table==5.0.0\n",
      "  Downloading dash_table-5.0.0.tar.gz (3.4 kB)\n",
      "  Preparing metadata (setup.py) ... \u001b[?25ldone\n",
      "\u001b[?25hCollecting dash-html-components==2.0.0\n",
      "  Downloading dash_html_components-2.0.0.tar.gz (3.8 kB)\n",
      "  Preparing metadata (setup.py) ... \u001b[?25ldone\n",
      "\u001b[?25hRequirement already satisfied: Flask>=1.0.4 in /home/emanuele/anaconda3/lib/python3.8/site-packages (from dash) (1.1.2)\n",
      "Requirement already satisfied: plotly>=5.0.0 in /home/emanuele/anaconda3/lib/python3.8/site-packages (from dash) (5.3.1)\n",
      "Collecting dash-core-components==2.0.0\n",
      "  Downloading dash_core_components-2.0.0.tar.gz (3.4 kB)\n",
      "  Preparing metadata (setup.py) ... \u001b[?25ldone\n",
      "\u001b[?25hCollecting flask-compress\n",
      "  Downloading Flask_Compress-1.10.1-py3-none-any.whl (7.9 kB)\n",
      "Requirement already satisfied: Werkzeug>=0.15 in /home/emanuele/anaconda3/lib/python3.8/site-packages (from Flask>=1.0.4->dash) (1.0.1)\n",
      "Requirement already satisfied: Jinja2>=2.10.1 in /home/emanuele/anaconda3/lib/python3.8/site-packages (from Flask>=1.0.4->dash) (2.11.3)\n",
      "Requirement already satisfied: click>=5.1 in /home/emanuele/anaconda3/lib/python3.8/site-packages (from Flask>=1.0.4->dash) (7.1.2)\n",
      "Requirement already satisfied: itsdangerous>=0.24 in /home/emanuele/anaconda3/lib/python3.8/site-packages (from Flask>=1.0.4->dash) (1.1.0)\n",
      "Requirement already satisfied: six in /home/emanuele/.local/lib/python3.8/site-packages (from plotly>=5.0.0->dash) (1.16.0)\n",
      "Requirement already satisfied: tenacity>=6.2.0 in /home/emanuele/anaconda3/lib/python3.8/site-packages (from plotly>=5.0.0->dash) (8.0.1)\n",
      "Collecting brotli\n",
      "  Downloading Brotli-1.0.9-cp38-cp38-manylinux1_x86_64.whl (357 kB)\n",
      "     |████████████████████████████████| 357 kB 64.1 MB/s            \n",
      "\u001b[?25hRequirement already satisfied: MarkupSafe>=0.23 in /home/emanuele/anaconda3/lib/python3.8/site-packages (from Jinja2>=2.10.1->Flask>=1.0.4->dash) (1.1.1)\n",
      "Building wheels for collected packages: dash-core-components, dash-html-components, dash-table\n",
      "  Building wheel for dash-core-components (setup.py) ... \u001b[?25ldone\n",
      "\u001b[?25h  Created wheel for dash-core-components: filename=dash_core_components-2.0.0-py3-none-any.whl size=3821 sha256=32af4d94ccd56f8f9c69b673cd52368b05bbe877dc04ed95c03101b53435b6b2\n",
      "  Stored in directory: /home/emanuele/.cache/pip/wheels/52/e4/f3/16724791571a955a46d54650510c98c04ab7d339626aee27cc\n",
      "  Building wheel for dash-html-components (setup.py) ... \u001b[?25ldone\n",
      "\u001b[?25h  Created wheel for dash-html-components: filename=dash_html_components-2.0.0-py3-none-any.whl size=4091 sha256=f18a8a7e1a146e31c00b476dbce14e055b4c15f8f22f68e749a84c62d2ce8627\n",
      "  Stored in directory: /home/emanuele/.cache/pip/wheels/73/d8/8d/92f612c03c895f19bcc56a6c54be7bb41aaa698012a5624f60\n",
      "  Building wheel for dash-table (setup.py) ... \u001b[?25ldone\n",
      "\u001b[?25h  Created wheel for dash-table: filename=dash_table-5.0.0-py3-none-any.whl size=3912 sha256=12a2eb6a647d7785bc10dca18595bb54f130fcb488b7afe619e3423ac6e94ff0\n",
      "  Stored in directory: /home/emanuele/.cache/pip/wheels/a6/fb/f5/4adf241f384634f52028f15eab6a325e77b8766a0a00816bbf\n",
      "Successfully built dash-core-components dash-html-components dash-table\n",
      "Installing collected packages: brotli, flask-compress, dash-table, dash-html-components, dash-core-components, dash\n",
      "Successfully installed brotli-1.0.9 dash-2.0.0 dash-core-components-2.0.0 dash-html-components-2.0.0 dash-table-5.0.0 flask-compress-1.10.1\n",
      "Note: you may need to restart the kernel to use updated packages.\n"
     ]
    }
   ],
   "source": [
    "pip install dash"
   ]
  },
  {
   "cell_type": "code",
   "execution_count": 109,
   "metadata": {},
   "outputs": [
    {
     "ename": "ModuleNotFoundError",
     "evalue": "No module named 'dash_bio'",
     "output_type": "error",
     "traceback": [
      "\u001b[0;31m---------------------------------------------------------------------------\u001b[0m",
      "\u001b[0;31mModuleNotFoundError\u001b[0m                       Traceback (most recent call last)",
      "\u001b[0;32m/tmp/ipykernel_395532/2741857730.py\u001b[0m in \u001b[0;36m<module>\u001b[0;34m\u001b[0m\n\u001b[1;32m      1\u001b[0m \u001b[0;32mimport\u001b[0m \u001b[0mdash\u001b[0m\u001b[0;34m\u001b[0m\u001b[0;34m\u001b[0m\u001b[0m\n\u001b[0;32m----> 2\u001b[0;31m \u001b[0;32mimport\u001b[0m \u001b[0mdash_bio\u001b[0m \u001b[0;32mas\u001b[0m \u001b[0mdashbio\u001b[0m\u001b[0;34m\u001b[0m\u001b[0;34m\u001b[0m\u001b[0m\n\u001b[0m\u001b[1;32m      3\u001b[0m \u001b[0;32mfrom\u001b[0m \u001b[0mdash\u001b[0m \u001b[0;32mimport\u001b[0m \u001b[0mdcc\u001b[0m\u001b[0;34m,\u001b[0m \u001b[0mhtml\u001b[0m\u001b[0;34m\u001b[0m\u001b[0;34m\u001b[0m\u001b[0m\n\u001b[1;32m      4\u001b[0m \u001b[0;32mfrom\u001b[0m \u001b[0mdash\u001b[0m\u001b[0;34m.\u001b[0m\u001b[0mdependencies\u001b[0m \u001b[0;32mimport\u001b[0m \u001b[0mInput\u001b[0m\u001b[0;34m,\u001b[0m \u001b[0mOutput\u001b[0m\u001b[0;34m\u001b[0m\u001b[0;34m\u001b[0m\u001b[0m\n\u001b[1;32m      5\u001b[0m \u001b[0;32mfrom\u001b[0m \u001b[0mdash\u001b[0m\u001b[0;34m.\u001b[0m\u001b[0mexceptions\u001b[0m \u001b[0;32mimport\u001b[0m \u001b[0mPreventUpdate\u001b[0m\u001b[0;34m\u001b[0m\u001b[0;34m\u001b[0m\u001b[0m\n",
      "\u001b[0;31mModuleNotFoundError\u001b[0m: No module named 'dash_bio'"
     ]
    }
   ],
   "source": [
    "import dash\n",
    "import dash_bio as dashbio\n",
    "from dash import dcc, html\n",
    "from dash.dependencies import Input, Output\n",
    "from dash.exceptions import PreventUpdate\n",
    "import dash_bio_utils.ngl_parser as ngl_parser\n",
    "\n",
    "app = dash.Dash(__name__)\n",
    "\n",
    "data_path = \"https://raw.githubusercontent.com/plotly/datasets/master/Dash_Bio/Molecular/\"\n",
    "\n",
    "\n",
    "dropdown_options = [\n",
    "    {\"label\": \"1BNA\", \"value\": \"1BNA\"},\n",
    "    {\"label\": \"MPRO\", \"value\": \"MPRO\"},\n",
    "    {\"label\": \"PLPR\", \"value\": \"PLPR\"},\n",
    "    {\"label\": \"5L73\", \"value\": \"5L73\"},\n",
    "    {\"label\": \"NSP2\", \"value\": \"NSP2\"}\n",
    "]\n",
    "\n",
    "app.layout = html.Div([\n",
    "    dcc.Markdown('''\n",
    "    ### NglMoleculeViewer Controls\n",
    "\n",
    "    * Rotate Stage: Left-click on the viewer and move the mouse to rotate the stage.\n",
    "    * Zoom: Use the mouse scroll-wheel to zoom in and out of the viewer.\n",
    "    * Pan: Right click on the viewer to pan the stage.\n",
    "    * Individual Molecule Interaction: Left click on the molecule to interact with, then hold the\n",
    "    `CTRL` key and use right and left click mouse buttons to rotate and pan individual molecules.\n",
    "    '''),\n",
    "    dcc.Dropdown(\n",
    "        id=\"default-ngl-molecule-dropdown\",\n",
    "        options=dropdown_options,\n",
    "        placeholder=\"Select a molecule\",\n",
    "        value=\"1BNA\"\n",
    "    ),\n",
    "    dashbio.NglMoleculeViewer(id=\"default-ngl-molecule\"),\n",
    "])\n",
    "\n",
    "@app.callback(\n",
    "    Output(\"default-ngl-molecule\", 'data'),\n",
    "    Output(\"default-ngl-molecule\", \"molStyles\"),\n",
    "    Input(\"default-ngl-molecule-dropdown\", \"value\")\n",
    ")\n",
    "def return_molecule(value):\n",
    "\n",
    "    if (value is None):\n",
    "        raise PreventUpdate\n",
    "\n",
    "    molstyles_dict = {\n",
    "        \"representations\": [\"cartoon\", \"axes+box\"],\n",
    "        \"chosenAtomsColor\": \"white\",\n",
    "        \"chosenAtomsRadius\": 1,\n",
    "        \"molSpacingXaxis\": 100,\n",
    "    }\n",
    "\n",
    "    data_list = [ngl_parser.get_data(data_path=data_path, pdb_id=value, color='red',reset_view=True, local=False)]\n",
    "\n",
    "    return data_list, molstyles_dict\n",
    "\n",
    "if __name__ == '__main__':\n",
    "    app.run_server(debug=True)"
   ]
  },
  {
   "cell_type": "code",
   "execution_count": null,
   "metadata": {},
   "outputs": [],
   "source": []
  }
 ],
 "metadata": {
  "interpreter": {
   "hash": "0560e353c805147202c5c4b56c2bebd1d9dc6a3d6b1752ab6b8e8a39a84cd724"
  },
  "kernelspec": {
   "display_name": "Python 3 (ipykernel)",
   "language": "python",
   "name": "python3"
  },
  "language_info": {
   "codemirror_mode": {
    "name": "ipython",
    "version": 3
   },
   "file_extension": ".py",
   "mimetype": "text/x-python",
   "name": "python",
   "nbconvert_exporter": "python",
   "pygments_lexer": "ipython3",
   "version": "3.8.8"
  }
 },
 "nbformat": 4,
 "nbformat_minor": 2
}
