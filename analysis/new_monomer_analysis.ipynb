{
 "cells": [
  {
   "cell_type": "code",
   "execution_count": null,
   "metadata": {},
   "outputs": [],
   "source": [
    "import MDAnalysis as mda\n",
    "from MDAnalysis.analysis.dihedrals import Dihedral, Ramachandran, Janin\n",
    "import plotly.graph_objects as go\n",
    "from plotly.subplots import make_subplots\n",
    "import plotly.figure_factory as ff\n",
    "import numpy as np\n",
    "import matplotlib.pyplot as plt\n",
    "import pandas as pd"
   ]
  },
  {
   "cell_type": "code",
   "execution_count": null,
   "metadata": {},
   "outputs": [],
   "source": [
    "def read_gyration_df(directory):\n",
    "    gyration_df = pd.read_csv(f'{directory}/gyration.xvg', sep = '\\\\s+', header=None, skiprows=[i for i in range(0, 27)])\n",
    "    gyration_df.columns = ['time', 'gyr', 'g', 'h', 'j']\n",
    "    gyration_df.drop(['g', 'h', 'j'], axis=1, inplace = True)\n",
    "    gyration_df['time'] = gyration_df['time']/1000\n",
    "\n",
    "    return gyration_df\n",
    "\n",
    "\n",
    "def read_mdmat(directory):\n",
    "    mat_df = pd.read_csv(f'{directory}/mat.dat', header=None, sep = '\\s+')\n",
    "    mat_df.columns = ['ai', 'aj', 'distance', 'probability']\n",
    "\n",
    "    return mat_df\n",
    "\n",
    "\n",
    "def read_rama(directory):\n",
    "    rama = pd.read_csv(f'{directory}/rama.xvg', sep = '\\\\s+', header=None, skiprows=[i for i in range(0, 34)])\n",
    "    rama.columns = ['phi', 'psi', 'residue']\n",
    "\n",
    "    return rama"
   ]
  },
  {
   "cell_type": "code",
   "execution_count": null,
   "metadata": {},
   "outputs": [],
   "source": [
    "#greta_rama_amino_list = rama_greta_harp0['residue'].unique()\n"
   ]
  },
  {
   "cell_type": "code",
   "execution_count": null,
   "metadata": {},
   "outputs": [],
   "source": [
    "def make_analysis(**parameters):\n",
    "    analysis_dict = {}\n",
    "    for name, para in parameters.items():\n",
    "        analysis_dict[name] = {}\n",
    "        %cd {para['directory']}\n",
    "        \n",
    "        if para['make_pbc'] == True:\n",
    "            gmx_pbc_string = f'echo -e \"0\\n\" | gmx_mpi trjconv -f {para[\"trajectory\"]} -s {para[\"tpr\"]} -pbc mol -o nopbc.xtc'\n",
    "            !{gmx_pbc_string}\n",
    "\n",
    "        if para['make_gyration'] == True:\n",
    "            gmx_gyrate_string = f'echo -e \"4\\n\" | gmx_mpi gyrate -f nopbc.xtc -s {para[\"tpr\"]} -o gyration.xvg'\n",
    "            !{gmx_gyrate_string}\n",
    "\n",
    "        if para['make_contacts'] == True:\n",
    "            gmx_mdmat_string = f'echo -e \"2\\n\" | gmx_mpi mdmat -f nopbc.xtc -s {para[\"tpr\"]}'\n",
    "            !{gmx_mdmat_string}\n",
    "        \n",
    "        if para['make_ramachandran'] == True:\n",
    "            gmx_rama_string = f'gmx_mpi rama -f nopbc.xtc -s {para[\"tpr\"]} -o rama.xvg'\n",
    "            !{gmx_rama_string}\n",
    "\n",
    "        analysis_dict[name]['gyration'] = read_gyration_df(para['directory'])\n",
    "        analysis_dict[name]['mdmat'] = read_mdmat(para['directory'])\n",
    "        analysis_dict[name]['ramachandran'] = read_rama(para['directory'])\n",
    "    \n",
    "    return analysis_dict"
   ]
  },
  {
   "cell_type": "code",
   "execution_count": null,
   "metadata": {},
   "outputs": [],
   "source": [
    "def plotly_gyration(monomer_analysis):\n",
    "    group_data, group_labels = [], []\n",
    "    for name, data in monomer_analysis.items():\n",
    "        group_data.append(data['gyration']['gyr'])\n",
    "        group_labels.append(name)\n",
    "\n",
    "    return group_data, group_labels\n",
    "\n",
    "\n",
    "def prepare_plotly_heatmap(df):\n",
    "    return {'z': df.probability.tolist(),\n",
    "            'x': df.ai.tolist(),\n",
    "            'y': df.aj.tolist()}\n",
    "\n",
    "\n",
    "def plotly_heatmap(monomer_analysis):\n",
    "    plainMD_mat = monomer_analysis['plainMD']['mdmat']\n",
    "    mdmat_names = list(monomer_analysis.keys())\n",
    "    mdmat_names.remove('plainMD')\n",
    "    mdmat_names.remove('random_coil')\n",
    "    rows = list(range(len(mdmat_names)))\n",
    "    rows = [c+1 for c in rows]\n",
    "    subplot_titles = []\n",
    "    for name in mdmat_names:\n",
    "        subplot_titles.append('PlainMD')\n",
    "        subplot_titles.append(name)\n",
    "        subplot_titles.append('Diff')\n",
    "    fig = make_subplots(rows = max(rows), cols = 3, subplot_titles=subplot_titles)\n",
    "    for mdmat, row in zip(mdmat_names, rows):\n",
    "        diff_mat = pd.DataFrame()\n",
    "        diff_mat['ai'] = monomer_analysis[mdmat]['mdmat']['ai']\n",
    "        diff_mat['aj'] = monomer_analysis[mdmat]['mdmat']['aj']\n",
    "        diff_mat['probability'] = monomer_analysis[mdmat]['mdmat']['probability'] - plainMD_mat['probability']\n",
    "        print(f'{mdmat}: ',sum(diff_mat['probability']*diff_mat['probability']))\n",
    "        fig.add_trace(go.Heatmap(prepare_plotly_heatmap(plainMD_mat)), row=row, col=1)\n",
    "        fig.add_trace(go.Heatmap(prepare_plotly_heatmap(monomer_analysis[mdmat]['mdmat'])), row=row, col=2)\n",
    "        fig.add_trace(go.Heatmap(prepare_plotly_heatmap(diff_mat)), row=row, col=3)\n",
    "\n",
    "\n",
    "    fig.update_layout(height = max(rows)*500, width = 3*500)\n",
    "\n",
    "    return fig\n",
    "\n",
    "\n",
    "def matplotlib_rama(monomer_analysis):\n",
    "    rama_names = list(monomer_analysis.keys())\n",
    "    cols = len(rama_names)\n",
    "    residue_list = list(monomer_analysis['plainMD']['ramachandran']['residue'].unique())\n",
    "    rows = list(range(len(residue_list)))\n",
    "    fig, axs = plt.subplots(max(rows)+1, cols, figsize = (cols*10, max(rows)*10))\n",
    "\n",
    "    for name, col in zip(rama_names, list(range(cols))):\n",
    "        for residue, row in zip(residue_list, rows):\n",
    "            temp_df = monomer_analysis[name]['ramachandran'].loc[monomer_analysis[name]['ramachandran']['residue'] == residue]\n",
    "            axs[row, col].scatter(temp_df['phi'], temp_df['psi'], alpha = 0.1)\n",
    "            axs[row, col].set_xlim(-180, 180)\n",
    "            axs[row, col].set_ylim(-180, 180)\n",
    "            axs[row, col].set_title(f'{name} {residue}')\n",
    "    plt.close()\n",
    "    return fig\n"
   ]
  },
  {
   "cell_type": "markdown",
   "metadata": {},
   "source": [
    "# CONTROLS"
   ]
  },
  {
   "cell_type": "markdown",
   "metadata": {},
   "source": [
    "## Plain MD"
   ]
  },
  {
   "cell_type": "code",
   "execution_count": null,
   "metadata": {},
   "outputs": [],
   "source": [
    "plain_MD_para = {\n",
    "    'tpr':'topol_noh.tpr',\n",
    "    'structure':'reduced-noh.gro',\n",
    "    'trajectory':'traj_red_noh.xtc',\n",
    "    'directory':'/home/emanuele/ABeta/markov',\n",
    "    'make_pbc':False,\n",
    "    'make_gyration': False,\n",
    "    'make_contacts': False,\n",
    "    'make_ramachandran': False\n",
    "}"
   ]
  },
  {
   "cell_type": "markdown",
   "metadata": {},
   "source": [
    "## Random Coil"
   ]
  },
  {
   "cell_type": "code",
   "execution_count": null,
   "metadata": {},
   "outputs": [],
   "source": [
    "\n",
    "rc_para = {\n",
    "    'tpr':'prod_abeta_greta.tpr',\n",
    "    'structure':'prod_abeta_greta-posre.gro',\n",
    "    'trajectory':'prod_abeta_greta.xtc',\n",
    "    'directory':'/home/emanuele/ABeta/random_coil/monomer_test/native_278K',\n",
    "    'make_pbc': False,\n",
    "    'make_gyration': False,\n",
    "    'make_contacts': False,\n",
    "    'make_ramachandran': False\n",
    "}\n"
   ]
  },
  {
   "cell_type": "markdown",
   "metadata": {},
   "source": [
    "# TESTS"
   ]
  },
  {
   "cell_type": "code",
   "execution_count": null,
   "metadata": {},
   "outputs": [],
   "source": [
    "e300 = {\n",
    "    'tpr':'prod_abeta_greta.tpr',\n",
    "    'structure':'prod_abeta_greta-posre.gro',\n",
    "    'trajectory':'prod_abeta_greta.xtc',\n",
    "    'directory':'/home/emanuele/ABeta/greta_co5.5_ex2/epsilon_300_merge/monomer_test/native_278K_new',\n",
    "    'make_pbc': False,\n",
    "    'make_gyration': False,\n",
    "    'make_contacts': False,\n",
    "    'make_ramachandran': False\n",
    "}"
   ]
  },
  {
   "cell_type": "code",
   "execution_count": null,
   "metadata": {},
   "outputs": [],
   "source": [
    "e320 = {\n",
    "    'tpr':'prod_abeta_greta.tpr',\n",
    "    'structure':'prod_abeta_greta-posre.gro',\n",
    "    'trajectory':'prod_abeta_greta.xtc',\n",
    "    'directory':'/home/emanuele/ABeta/greta_co5.5_ex2/epsilon_320_merge/monomer_test/native_278K_pe21',\n",
    "    'make_pbc': True,\n",
    "    'make_gyration': True,\n",
    "    'make_contacts': True,\n",
    "    'make_ramachandran': True\n",
    "}"
   ]
  },
  {
   "cell_type": "code",
   "execution_count": null,
   "metadata": {},
   "outputs": [],
   "source": [
    "double300_320 = {\n",
    "    'tpr':'prod_abeta_greta.tpr',\n",
    "    'structure':'prod_abeta_greta-posre.gro',\n",
    "    'trajectory':'prod_abeta_greta.xtc',\n",
    "    'directory':'/home/emanuele/ABeta/greta_co5.5_ex2/double_epsilon_idp300_fib320_merge/monomer_test/native_278K_pe21',\n",
    "    'make_pbc': True,\n",
    "    'make_gyration': True,\n",
    "    'make_contacts': True,\n",
    "    'make_ramachandran': True\n",
    "}"
   ]
  },
  {
   "cell_type": "code",
   "execution_count": null,
   "metadata": {},
   "outputs": [],
   "source": [
    "monomer_analysis = make_analysis(plainMD = plain_MD_para, random_coil = rc_para, e300 = e300, e320 = e320, double300_320 = double300_320)"
   ]
  },
  {
   "cell_type": "code",
   "execution_count": null,
   "metadata": {},
   "outputs": [],
   "source": [
    "group_data, group_labels = plotly_gyration(monomer_analysis)\n",
    "\n",
    "#colors = ['rgb(230, 142, 204)', 'rgb(35, 181, 230)', 'rgb(230, 149, 101)', 'rgb(230, 205, 88)', 'rgb(65, 230, 175)']\n",
    "\n",
    "fig = ff.create_distplot(group_data, group_labels, bin_size=.01, show_rug=False)#, colors=colors)\n",
    "fig.update_layout(autosize = False , width = 800, height = 800, plot_bgcolor = 'white', font = dict(size = 30))#, legend  = dict(yanchor = 'top', y = 0.99, xanchor = 'left', x = 0.01))\n",
    "fig.update_yaxes(title = 'pdf', showline = True, linecolor = 'black', rangemode = 'tozero', showticklabels = False)\n",
    "fig.update_xaxes(title = 'Radius of gyration (nm)', showline = True, linecolor = 'black')\n",
    "\n",
    "#fig.write_image(\"gyr_histograms.png\")\n",
    "fig.show()\n"
   ]
  },
  {
   "cell_type": "code",
   "execution_count": null,
   "metadata": {},
   "outputs": [],
   "source": [
    "plotly_heatmap(monomer_analysis)"
   ]
  },
  {
   "cell_type": "code",
   "execution_count": null,
   "metadata": {},
   "outputs": [],
   "source": [
    "rama_plot = matplotlib_rama(monomer_analysis)\n",
    "rama_plot"
   ]
  }
 ],
 "metadata": {
  "kernelspec": {
   "display_name": "Python 3 (ipykernel)",
   "language": "python",
   "name": "python3"
  },
  "language_info": {
   "codemirror_mode": {
    "name": "ipython",
    "version": 3
   },
   "file_extension": ".py",
   "mimetype": "text/x-python",
   "name": "python",
   "nbconvert_exporter": "python",
   "pygments_lexer": "ipython3",
   "version": "3.8.8"
  }
 },
 "nbformat": 4,
 "nbformat_minor": 2
}
